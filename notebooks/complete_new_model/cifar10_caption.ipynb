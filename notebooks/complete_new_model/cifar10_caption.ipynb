{
 "cells": [
  {
   "cell_type": "code",
   "execution_count": 4,
   "id": "87609e36",
   "metadata": {},
   "outputs": [],
   "source": [
    "import torch\n",
    "import torch.nn as nn\n",
    "import torch.nn.functional as F\n",
    "from diffusers.models.embeddings import get_timestep_embedding\n",
    "from transformers import CLIPTextModel, CLIPTokenizer\n",
    "from torchvision import transforms\n",
    "from datasets import load_dataset\n",
    "import matplotlib.pyplot as plt\n",
    "import numpy as np\n",
    "from torchvision.datasets import CIFAR10\n",
    "from torch.utils.data import Dataset\n",
    "import torchvision.transforms as transforms\n"
   ]
  },
  {
   "cell_type": "code",
   "execution_count": 8,
   "id": "1758fac9",
   "metadata": {},
   "outputs": [],
   "source": [
    "class CIFAR10WithCaptions(Dataset):\n",
    "    def __init__(self, root=\"./data\", train=True, transform=None):\n",
    "        self.cifar = CIFAR10(root=root, train=train, download=True)\n",
    "        self.transform = transform\n",
    "        self.label_map = {\n",
    "            0: \"airplane\",\n",
    "            1: \"automobile\",\n",
    "            2: \"bird\",\n",
    "            3: \"cat\",\n",
    "            4: \"deer\",\n",
    "            5: \"dog\",\n",
    "            6: \"frog\",\n",
    "            7: \"horse\",\n",
    "            8: \"ship\",\n",
    "            9: \"truck\",\n",
    "        }\n",
    "\n",
    "    def __len__(self):\n",
    "        return len(self.cifar)\n",
    "\n",
    "    def __getitem__(self, idx):\n",
    "        image, label = self.cifar[idx]\n",
    "        caption = f\"{self.label_map[label]}\"\n",
    "        if self.transform:\n",
    "            image = self.transform(image)\n",
    "        return {\"image\": image, \"caption\": caption}"
   ]
  },
  {
   "cell_type": "code",
   "execution_count": 9,
   "id": "0e6bd1ef",
   "metadata": {},
   "outputs": [],
   "source": [
    "dataset = CIFAR10WithCaptions(\"../../datasets\")\n"
   ]
  },
  {
   "cell_type": "code",
   "execution_count": 10,
   "id": "b338574d",
   "metadata": {},
   "outputs": [
    {
     "data": {
      "text/plain": [
       "{'image': <PIL.Image.Image image mode=RGB size=32x32>, 'caption': 'frog'}"
      ]
     },
     "execution_count": 10,
     "metadata": {},
     "output_type": "execute_result"
    }
   ],
   "source": [
    "dataset[0]"
   ]
  }
 ],
 "metadata": {
  "kernelspec": {
   "display_name": "text-conditioned-image-generation-using-st-35DVCAXA-py3.11",
   "language": "python",
   "name": "python3"
  },
  "language_info": {
   "codemirror_mode": {
    "name": "ipython",
    "version": 3
   },
   "file_extension": ".py",
   "mimetype": "text/x-python",
   "name": "python",
   "nbconvert_exporter": "python",
   "pygments_lexer": "ipython3",
   "version": "3.11.8"
  }
 },
 "nbformat": 4,
 "nbformat_minor": 5
}
