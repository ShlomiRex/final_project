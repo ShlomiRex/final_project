{
 "cells": [
  {
   "cell_type": "code",
   "execution_count": 10,
   "id": "76054edf",
   "metadata": {},
   "outputs": [],
   "source": [
    "from torch.optim import Adam\n",
    "import torch\n",
    "import torchvision\n",
    "from torchvision.transforms import transforms\n",
    "from torchvision import datasets\n",
    "from torch.utils.data import DataLoader\n",
    "from tqdm import tqdm\n",
    "from model import Model\n",
    "import mlflow\n",
    "import matplotlib.pyplot as plt\n",
    "from einops import rearrange\n",
    "import torch.nn.functional as F\n",
    "import tempfile"
   ]
  },
  {
   "cell_type": "markdown",
   "id": "6d7f1bcd",
   "metadata": {},
   "source": [
    "# Setup model + parameters"
   ]
  },
  {
   "cell_type": "code",
   "execution_count": 11,
   "id": "ca863e9d",
   "metadata": {},
   "outputs": [
    {
     "name": "stdout",
     "output_type": "stream",
     "text": [
      "Using device: cuda\n"
     ]
    }
   ],
   "source": [
    "model = Model(num_classes=1)\n",
    "\n",
    "device = \"cuda\" if torch.cuda.is_available() else \"cpu\"\n",
    "print(f\"Using device: {device}\")\n",
    "\n",
    "model.to(device)\n",
    "\n",
    "LR = 0.001\n",
    "optimizer = Adam(model.parameters(), lr=LR)\n",
    "\n",
    "EPOCHS = 2\n",
    "IMG_SIZE = 32\n",
    "BATCH_SIZE = 64\n",
    "T = 300"
   ]
  },
  {
   "cell_type": "markdown",
   "id": "82224619",
   "metadata": {},
   "source": [
    "# Datasets"
   ]
  },
  {
   "cell_type": "code",
   "execution_count": 12,
   "id": "2e3a70da",
   "metadata": {},
   "outputs": [],
   "source": [
    "data_transform = transforms.Compose([\n",
    "    transforms.Pad(2),\n",
    "    transforms.ToTensor(),\n",
    "])\n",
    "\n",
    "train = torchvision.datasets.FashionMNIST(root=\"./data\", download=True, transform=data_transform, train=True)\n",
    "\n",
    "test = torchvision.datasets.FashionMNIST(root=\"./data\", download=True, transform=data_transform, train=False)\n",
    "\n",
    "\n",
    "train_dataloader = DataLoader(train, batch_size=BATCH_SIZE, shuffle=True, drop_last=True)\n",
    "test_dataloader = DataLoader(test, batch_size=BATCH_SIZE, shuffle=False, drop_last=True)"
   ]
  },
  {
   "cell_type": "code",
   "execution_count": 13,
   "id": "6e3eec95",
   "metadata": {},
   "outputs": [],
   "source": [
    "# imgs, lbls = next(iter(train_dataloader))\n",
    "# print(f\"Image shape: {imgs.shape}, Labels shape: {lbls.shape}\")\n",
    "\n",
    "# def model_forward(model, imgs: torch.Tensor, t: torch.Tensor):\n",
    "#     model.eval()\n",
    "#     with torch.no_grad():\n",
    "#         imgs = imgs.to(device)\n",
    "#         noise_pred = model(imgs, t)\n",
    "#         noise_pred = noise_pred.cpu().numpy()\n",
    "#     return noise_pred\n",
    "\n",
    "# noise_pred = model_forward(model, imgs, torch.empty((BATCH_SIZE, 1)).to(device))\n",
    "\n",
    "# fig, axes = plt.subplots(1, 2, figsize=(10, 5))\n",
    "\n",
    "# axes[0].imshow(imgs[0].detach().cpu().squeeze(), cmap=\"gray\")\n",
    "# axes[1].imshow(noise_pred[0].squeeze(), cmap=\"gray\")\n",
    "# plt.show()"
   ]
  },
  {
   "cell_type": "code",
   "execution_count": 14,
   "id": "b295cb90",
   "metadata": {},
   "outputs": [],
   "source": [
    "# t = torch.randint(1, 50, imgs.shape)\n",
    "\n",
    "# imgs = imgs.to(device)\n",
    "# noisy_imgs, noise, first_term, second_term = model.noise_scheduler(imgs, t)\n",
    "\n",
    "# imgs = imgs.cpu()\n",
    "# noisy_imgs = noisy_imgs.cpu()\n",
    "# noise = noise.cpu()\n",
    "# first_term = first_term.cpu()\n",
    "# second_term = second_term.cpu()\n",
    "\n",
    "# idx = 1\n",
    "# img = imgs[idx]\n",
    "# noisy_img = noisy_imgs[idx]\n",
    "# noise_idx = noise[idx]\n",
    "# first_term_idx = first_term[idx]\n",
    "# second_term_idx = second_term[idx]\n",
    "\n",
    "# plt.subplot(1, 4, 1)\n",
    "# plt.imshow(rearrange(img, \"b h w -> h w b\"), cmap=\"gray\")\n",
    "# plt.title(\"Original Image\")\n",
    "\n",
    "# plt.subplot(1, 4, 2)\n",
    "# plt.imshow(rearrange(noise_idx, \"b h w -> h w b\"), cmap=\"gray\")\n",
    "# plt.title(\"Noise\")\n",
    "\n",
    "# plt.subplot(1, 4, 3)\n",
    "# plt.imshow(rearrange(noisy_img, \"b h w -> h w b\"), cmap=\"gray\")\n",
    "# plt.title(\"Noisy image\")\n",
    "\n",
    "# probably_original_image = noisy_img - first_term_idx - second_term_idx\n",
    "\n",
    "# plt.subplot(1, 4, 4)\n",
    "# plt.imshow(rearrange(probably_original_image, \"b h w -> h w b\"), cmap=\"gray\")\n",
    "# plt.title(\"Noisy image minus noise\")\n",
    "\n",
    "# plt.tight_layout()\n",
    "# plt.show()"
   ]
  },
  {
   "cell_type": "code",
   "execution_count": 15,
   "id": "3106328b",
   "metadata": {},
   "outputs": [],
   "source": [
    "train_dataset = datasets.MNIST(root='../../data', train=True, download=True, transform=data_transform)\n",
    "test_dataset  = datasets.MNIST(root='../../data', train=False, download=True, transform=data_transform)\n",
    "\n",
    "train_loader = DataLoader(train_dataset, batch_size=64, shuffle=True)\n",
    "test_loader  = DataLoader(test_dataset, batch_size=64, shuffle=False)"
   ]
  },
  {
   "cell_type": "markdown",
   "id": "04f7dc84",
   "metadata": {},
   "source": [
    "Show noise schedule original image, noisy image, noise, and noisy image minus the noise"
   ]
  },
  {
   "cell_type": "code",
   "execution_count": 16,
   "id": "317fff13",
   "metadata": {},
   "outputs": [
    {
     "data": {
      "image/png": "[encoded data removed]",
      "text/plain": [
       "<Figure size 640x480 with 6 Axes>"
      ]
     },
     "metadata": {},
     "output_type": "display_data"
    }
   ],
   "source": [
    "noise_sched = model.noise_scheduler\n",
    "images, labels = next(iter(train_loader))\n",
    "\n",
    "# Forward diffusion for the first image\n",
    "image = images[0].to(device)\n",
    "timestep = 100\n",
    "noisy_img, noise, first_term, second_term = noise_sched.forward(image, timestep)\n",
    "\n",
    "# Noisy image minus the noise\n",
    "minus = noisy_img - second_term\n",
    "\n",
    "# Plot different images\n",
    "image = rearrange(image, \"b h w -> h w b\")\n",
    "noisy_img = rearrange(noisy_img, \"b h w -> h w b\")\n",
    "minus = rearrange(minus, \"b h w -> h w b\")\n",
    "second_term = rearrange(second_term, \"b h w -> h w b\")\n",
    "first_term = rearrange(first_term, \"b h w -> h w b\")\n",
    "noise = rearrange(noise, \"b h w -> h w b\")\n",
    "\n",
    "plt.subplot(1, 6, 1)\n",
    "plt.imshow(image.cpu().numpy(), cmap='gray')\n",
    "plt.title('Original')\n",
    "plt.axis('off')\n",
    "plt.subplot(1, 6, 2)\n",
    "plt.imshow(noisy_img.cpu().numpy(), cmap='gray')\n",
    "plt.title('Noisy img')\n",
    "plt.axis('off')\n",
    "plt.subplot(1, 6, 3)\n",
    "plt.imshow(second_term.cpu().numpy(), cmap='gray')\n",
    "plt.title('Second term')\n",
    "plt.axis('off')\n",
    "plt.axis('off')\n",
    "plt.subplot(1, 6, 4)\n",
    "plt.imshow(minus.cpu().numpy(), cmap='gray')\n",
    "plt.title('Minus')\n",
    "plt.axis('off')\n",
    "plt.subplot(1, 6, 5)\n",
    "plt.imshow(noise.cpu().numpy(), cmap='gray')\n",
    "plt.title('Noise')\n",
    "plt.axis('off')\n",
    "plt.subplot(1, 6, 6)\n",
    "plt.imshow(first_term.cpu().numpy(), cmap='gray')\n",
    "plt.title('First term')\n",
    "plt.axis('off')\n",
    "\n",
    "plt.subplots_adjust(wspace=1)  # adjust this value as needed\n",
    "\n",
    "plt.show()\n"
   ]
  },
  {
   "cell_type": "markdown",
   "id": "7fb0c4e9",
   "metadata": {},
   "source": [
    "Show noise schedule original image, noisy image, noise, "
   ]
  },
  {
   "cell_type": "markdown",
   "id": "200d1684",
   "metadata": {},
   "source": [
    "# Train"
   ]
  },
  {
   "cell_type": "code",
   "execution_count": null,
   "id": "66ee7915",
   "metadata": {},
   "outputs": [],
   "source": [
    "def get_loss(model, epoch, imgs: torch.Tensor, t: torch.Tensor):\n",
    "    x_noisy, noise, first_term, second_term = model.noise_scheduler(imgs, t)\n",
    "    noise_pred = model(x_noisy, t)\n",
    "    loss = F.l1_loss(noise_pred, second_term) # Here we want to predict the noise. Second term is the noise / target to predict\n",
    "\n",
    "    if epoch % 5 == 0:\n",
    "        # Plot original image, noisy image, noise, and predicted noise\n",
    "        idx = 0\n",
    "        original_image = imgs[idx].cpu()\n",
    "        noisy_image = x_noisy[idx].cpu()\n",
    "        noise_idx = noise[idx].cpu()\n",
    "        first_term_image = first_term[idx].cpu()\n",
    "        second_term_image = second_term[idx].cpu()\n",
    "        predicted_noise_image = noise_pred[idx].cpu().detach()\n",
    "        t_idx = t[idx].cpu().item()\n",
    "        minus = noisy_image - second_term_image\n",
    "\n",
    "        fig, axes = plt.subplots(1, 7, figsize=(8, 8))\n",
    "        axes[0].imshow(rearrange(original_image, \"c h w -> h w c\"), cmap=\"gray\")\n",
    "        axes[0].set_title(\"Original\")\n",
    "\n",
    "        axes[1].imshow(rearrange(noisy_image, \"c h w -> h w c\"), cmap=\"gray\")\n",
    "        axes[1].set_title(\"Noisy (t=\"+str(t_idx)+\")\")\n",
    "\n",
    "        axes[2].imshow(rearrange(noise_idx, \"c h w -> h w c\"), cmap=\"gray\")\n",
    "        axes[2].set_title(\"Noise\")\n",
    "\n",
    "        axes[3].imshow(rearrange(first_term_image, \"c h w -> h w c\"), cmap=\"gray\")\n",
    "        axes[3].set_title(\"First term\")\n",
    "\n",
    "        axes[4].imshow(rearrange(second_term_image, \"c h w -> h w c\"), cmap=\"gray\")\n",
    "        axes[4].set_title(\"Second term\")\n",
    "\n",
    "        axes[5].imshow(rearrange(predicted_noise_image, \"c h w -> h w c\"), cmap=\"gray\")\n",
    "        axes[5].set_title(\"Predicted\")\n",
    "\n",
    "        axes[6].imshow(rearrange(minus, \"c h w -> h w c\"), cmap=\"gray\")\n",
    "        axes[6].set_title(\"(Noisy-Second)\")\n",
    "\n",
    "\n",
    "        plt.subplots_adjust(wspace=0.5)  # Increase gap between columns\n",
    "        # plt.tight_layout()\n",
    "\n",
    "        with tempfile.NamedTemporaryFile(suffix=\".png\", delete=False) as tmp:\n",
    "            fig.savefig(tmp.name)\n",
    "            mlflow.log_artifact(tmp.name, artifact_path=\"images\")  # optional path name inside MLflow\n",
    "            print(\"Saved image: \" + tmp.name)\n",
    "            # mlflow.log_image(tmp, artifact_file=tmp.name)\n",
    "\n",
    "        plt.close(fig)  # Clean up the figure\n",
    "\n",
    "    return loss"
   ]
  },
  {
   "cell_type": "code",
   "execution_count": 18,
   "id": "aa792908",
   "metadata": {},
   "outputs": [
    {
     "name": "stderr",
     "output_type": "stream",
     "text": [
      "WARNING:root:Malformed experiment 'mlruns'. Detailed error Yaml file 'C:\\Users\\Shlomi\\Desktop\\Projects\\final_project\\src\\mlruns\\mlruns\\meta.yaml' does not exist.\n",
      "Traceback (most recent call last):\n",
      "  File \"c:\\Users\\Shlomi\\AppData\\Local\\pypoetry\\Cache\\virtualenvs\\text-conditioned-image-generation-using-st-35DVCAXA-py3.11\\Lib\\site-packages\\mlflow\\store\\tracking\\file_store.py\", line 329, in search_experiments\n",
      "    exp = self._get_experiment(exp_id, view_type)\n",
      "          ^^^^^^^^^^^^^^^^^^^^^^^^^^^^^^^^^^^^^^^\n",
      "  File \"c:\\Users\\Shlomi\\AppData\\Local\\pypoetry\\Cache\\virtualenvs\\text-conditioned-image-generation-using-st-35DVCAXA-py3.11\\Lib\\site-packages\\mlflow\\store\\tracking\\file_store.py\", line 427, in _get_experiment\n",
      "    meta = FileStore._read_yaml(experiment_dir, FileStore.META_DATA_FILE_NAME)\n",
      "           ^^^^^^^^^^^^^^^^^^^^^^^^^^^^^^^^^^^^^^^^^^^^^^^^^^^^^^^^^^^^^^^^^^^\n",
      "  File \"c:\\Users\\Shlomi\\AppData\\Local\\pypoetry\\Cache\\virtualenvs\\text-conditioned-image-generation-using-st-35DVCAXA-py3.11\\Lib\\site-packages\\mlflow\\store\\tracking\\file_store.py\", line 1373, in _read_yaml\n",
      "    return _read_helper(root, file_name, attempts_remaining=retries)\n",
      "           ^^^^^^^^^^^^^^^^^^^^^^^^^^^^^^^^^^^^^^^^^^^^^^^^^^^^^^^^^\n",
      "  File \"c:\\Users\\Shlomi\\AppData\\Local\\pypoetry\\Cache\\virtualenvs\\text-conditioned-image-generation-using-st-35DVCAXA-py3.11\\Lib\\site-packages\\mlflow\\store\\tracking\\file_store.py\", line 1366, in _read_helper\n",
      "    result = read_yaml(root, file_name)\n",
      "             ^^^^^^^^^^^^^^^^^^^^^^^^^^\n",
      "  File \"c:\\Users\\Shlomi\\AppData\\Local\\pypoetry\\Cache\\virtualenvs\\text-conditioned-image-generation-using-st-35DVCAXA-py3.11\\Lib\\site-packages\\mlflow\\utils\\file_utils.py\", line 310, in read_yaml\n",
      "    raise MissingConfigException(f\"Yaml file '{file_path}' does not exist.\")\n",
      "mlflow.exceptions.MissingConfigException: Yaml file 'C:\\Users\\Shlomi\\Desktop\\Projects\\final_project\\src\\mlruns\\mlruns\\meta.yaml' does not exist.\n",
      "Training:   0%|          | 0/2 [00:00<?, ?epoch/s]"
     ]
    },
    {
     "name": "stdout",
     "output_type": "stream",
     "text": [
      "Saved image: C:\\Users\\Shlomi\\AppData\\Local\\Temp\\tmpez4pptp_.png\n"
     ]
    },
    {
     "name": "stderr",
     "output_type": "stream",
     "text": [
      "\n"
     ]
    },
    {
     "ename": "TypeError",
     "evalue": "Unsupported image object type: <class 'tempfile._TemporaryFileWrapper'>. `image` must be one of numpy.ndarray, PIL.Image.Image, and mlflow.Image.",
     "output_type": "error",
     "traceback": [
      "\u001b[31m---------------------------------------------------------------------------\u001b[39m",
      "\u001b[31mTypeError\u001b[39m                                 Traceback (most recent call last)",
      "\u001b[36mCell\u001b[39m\u001b[36m \u001b[39m\u001b[32mIn[18]\u001b[39m\u001b[32m, line 24\u001b[39m\n\u001b[32m     21\u001b[39m \u001b[38;5;66;03m# labels = labels.to(device)\u001b[39;00m\n\u001b[32m     23\u001b[39m t = torch.randint(\u001b[32m0\u001b[39m, T, (BATCH_SIZE,), device=device).long()\n\u001b[32m---> \u001b[39m\u001b[32m24\u001b[39m loss = \u001b[43mget_loss\u001b[49m\u001b[43m(\u001b[49m\u001b[43mmodel\u001b[49m\u001b[43m,\u001b[49m\u001b[43m \u001b[49m\u001b[43mepoch\u001b[49m\u001b[43m,\u001b[49m\u001b[43m \u001b[49m\u001b[43mimgs\u001b[49m\u001b[43m,\u001b[49m\u001b[43m \u001b[49m\u001b[43mt\u001b[49m\u001b[43m)\u001b[49m\n\u001b[32m     26\u001b[39m mlflow.log_metric(\u001b[33m\"\u001b[39m\u001b[33mloss\u001b[39m\u001b[33m\"\u001b[39m, loss.item(), step=batch_step)\n\u001b[32m     27\u001b[39m batch_step += \u001b[32m1\u001b[39m\n",
      "\u001b[36mCell\u001b[39m\u001b[36m \u001b[39m\u001b[32mIn[17]\u001b[39m\u001b[32m, line 48\u001b[39m, in \u001b[36mget_loss\u001b[39m\u001b[34m(model, epoch, imgs, t)\u001b[39m\n\u001b[32m     46\u001b[39m         mlflow.log_artifact(tmp.name, artifact_path=\u001b[33m\"\u001b[39m\u001b[33mimages\u001b[39m\u001b[33m\"\u001b[39m)  \u001b[38;5;66;03m# optional path name inside MLflow\u001b[39;00m\n\u001b[32m     47\u001b[39m         \u001b[38;5;28mprint\u001b[39m(\u001b[33m\"\u001b[39m\u001b[33mSaved image: \u001b[39m\u001b[33m\"\u001b[39m + tmp.name)\n\u001b[32m---> \u001b[39m\u001b[32m48\u001b[39m         \u001b[43mmlflow\u001b[49m\u001b[43m.\u001b[49m\u001b[43mlog_image\u001b[49m\u001b[43m(\u001b[49m\u001b[43mtmp\u001b[49m\u001b[43m,\u001b[49m\u001b[43m \u001b[49m\u001b[43martifact_file\u001b[49m\u001b[43m=\u001b[49m\u001b[43mtmp\u001b[49m\u001b[43m.\u001b[49m\u001b[43mname\u001b[49m\u001b[43m)\u001b[49m\n\u001b[32m     50\u001b[39m     plt.close(fig)  \u001b[38;5;66;03m# Clean up the figure\u001b[39;00m\n\u001b[32m     52\u001b[39m \u001b[38;5;28;01mreturn\u001b[39;00m loss\n",
      "\u001b[36mFile \u001b[39m\u001b[32mc:\\Users\\Shlomi\\AppData\\Local\\pypoetry\\Cache\\virtualenvs\\text-conditioned-image-generation-using-st-35DVCAXA-py3.11\\Lib\\site-packages\\mlflow\\tracking\\fluent.py:1473\u001b[39m, in \u001b[36mlog_image\u001b[39m\u001b[34m(image, artifact_file, key, step, timestamp, synchronous)\u001b[39m\n\u001b[32m   1354\u001b[39m \u001b[38;5;250m\u001b[39m\u001b[33;03m\"\"\"\u001b[39;00m\n\u001b[32m   1355\u001b[39m \u001b[33;03mLogs an image in MLflow, supporting two use cases:\u001b[39;00m\n\u001b[32m   1356\u001b[39m \n\u001b[32m   (...)\u001b[39m\u001b[32m   1470\u001b[39m \u001b[33;03m        mlflow.log_image(image, \"image.png\")\u001b[39;00m\n\u001b[32m   1471\u001b[39m \u001b[33;03m\"\"\"\u001b[39;00m\n\u001b[32m   1472\u001b[39m run_id = _get_or_start_run().info.run_id\n\u001b[32m-> \u001b[39m\u001b[32m1473\u001b[39m \u001b[43mMlflowClient\u001b[49m\u001b[43m(\u001b[49m\u001b[43m)\u001b[49m\u001b[43m.\u001b[49m\u001b[43mlog_image\u001b[49m\u001b[43m(\u001b[49m\u001b[43mrun_id\u001b[49m\u001b[43m,\u001b[49m\u001b[43m \u001b[49m\u001b[43mimage\u001b[49m\u001b[43m,\u001b[49m\u001b[43m \u001b[49m\u001b[43martifact_file\u001b[49m\u001b[43m,\u001b[49m\u001b[43m \u001b[49m\u001b[43mkey\u001b[49m\u001b[43m,\u001b[49m\u001b[43m \u001b[49m\u001b[43mstep\u001b[49m\u001b[43m,\u001b[49m\u001b[43m \u001b[49m\u001b[43mtimestamp\u001b[49m\u001b[43m,\u001b[49m\u001b[43m \u001b[49m\u001b[43msynchronous\u001b[49m\u001b[43m)\u001b[49m\n",
      "\u001b[36mFile \u001b[39m\u001b[32mc:\\Users\\Shlomi\\AppData\\Local\\pypoetry\\Cache\\virtualenvs\\text-conditioned-image-generation-using-st-35DVCAXA-py3.11\\Lib\\site-packages\\mlflow\\tracking\\client.py:2789\u001b[39m, in \u001b[36mMlflowClient.log_image\u001b[39m\u001b[34m(self, run_id, image, artifact_file, key, step, timestamp, synchronous)\u001b[39m\n\u001b[32m   2786\u001b[39m     \u001b[38;5;28;01mimport\u001b[39;00m\u001b[38;5;250m \u001b[39m\u001b[34;01mPIL\u001b[39;00m\u001b[34;01m.\u001b[39;00m\u001b[34;01mImage\u001b[39;00m\n\u001b[32m   2788\u001b[39m     \u001b[38;5;28;01mif\u001b[39;00m \u001b[38;5;129;01mnot\u001b[39;00m \u001b[38;5;28misinstance\u001b[39m(image, PIL.Image.Image):\n\u001b[32m-> \u001b[39m\u001b[32m2789\u001b[39m         \u001b[38;5;28;01mraise\u001b[39;00m \u001b[38;5;167;01mTypeError\u001b[39;00m(\n\u001b[32m   2790\u001b[39m             \u001b[33mf\u001b[39m\u001b[33m\"\u001b[39m\u001b[33mUnsupported image object type: \u001b[39m\u001b[38;5;132;01m{\u001b[39;00m\u001b[38;5;28mtype\u001b[39m(image)\u001b[38;5;132;01m}\u001b[39;00m\u001b[33m. \u001b[39m\u001b[33m\"\u001b[39m\n\u001b[32m   2791\u001b[39m             \u001b[33m\"\u001b[39m\u001b[33m`image` must be one of numpy.ndarray, \u001b[39m\u001b[33m\"\u001b[39m\n\u001b[32m   2792\u001b[39m             \u001b[33m\"\u001b[39m\u001b[33mPIL.Image.Image, and mlflow.Image.\u001b[39m\u001b[33m\"\u001b[39m\n\u001b[32m   2793\u001b[39m         )\n\u001b[32m   2795\u001b[39m \u001b[38;5;28;01mif\u001b[39;00m artifact_file \u001b[38;5;129;01mis\u001b[39;00m \u001b[38;5;129;01mnot\u001b[39;00m \u001b[38;5;28;01mNone\u001b[39;00m:\n\u001b[32m   2796\u001b[39m     \u001b[38;5;28;01mwith\u001b[39;00m \u001b[38;5;28mself\u001b[39m._log_artifact_helper(run_id, artifact_file) \u001b[38;5;28;01mas\u001b[39;00m tmp_path:\n",
      "\u001b[31mTypeError\u001b[39m: Unsupported image object type: <class 'tempfile._TemporaryFileWrapper'>. `image` must be one of numpy.ndarray, PIL.Image.Image, and mlflow.Image."
     ]
    },
    {
     "data": {
      "image/png": "[encoded data removed]",
      "text/plain": [
       "<Figure size 800x800 with 7 Axes>"
      ]
     },
     "metadata": {},
     "output_type": "display_data"
    }
   ],
   "source": [
    "mlflow.set_experiment(\"MNIST Training\")\n",
    "mlflow.autolog()\n",
    "\n",
    "with mlflow.start_run():\n",
    "    mlflow.log_params({\n",
    "        \"lr\": LR,\n",
    "        \"device\": device,\n",
    "        \"optimizer\": optimizer,\n",
    "        \"epochs\": EPOCHS,\n",
    "        \"batch_size\": BATCH_SIZE\n",
    "    })\n",
    "\n",
    "    batch_step = 0\n",
    "    \n",
    "    for epoch in tqdm(range(EPOCHS), desc=\"Training\", unit=\"epoch\"):\n",
    "        for step, batch in enumerate(train_dataloader):\n",
    "            optimizer.zero_grad()\n",
    "\n",
    "            imgs, labels = batch\n",
    "            imgs = imgs.to(device)\n",
    "            # labels = labels.to(device)\n",
    "\n",
    "            t = torch.randint(0, T, (BATCH_SIZE,), device=device).long()\n",
    "            loss = get_loss(model, epoch, imgs, t)\n",
    "\n",
    "            mlflow.log_metric(\"loss\", loss.item(), step=batch_step)\n",
    "            batch_step += 1\n",
    "\n",
    "            # Calculate gradients and update model parameters\n",
    "            loss.backward()\n",
    "            optimizer.step()\n",
    "\n",
    "            #   if epoch % 5 == 0 and step == 0:\n",
    "            #     print(f\"Epoch {epoch} | step {step:03d} Loss: {loss.item()} \")\n",
    "            #     sample_plot_image()\n",
    "\n",
    "# Save model\n",
    "torch.save(model.state_dict(), \"model.pth\")"
   ]
  },
  {
   "cell_type": "code",
   "execution_count": null,
   "id": "3d566f57",
   "metadata": {},
   "outputs": [],
   "source": [
    "# Load model\n",
    "model = Model()\n",
    "model.load_state_dict(torch.load(\"model.pth\"))\n",
    "\n"
   ]
  }
 ],
 "metadata": {
  "kernelspec": {
   "display_name": "text-conditioned-image-generation-using-st-35DVCAXA-py3.11",
   "language": "python",
   "name": "python3"
  },
  "language_info": {
   "codemirror_mode": {
    "name": "ipython",
    "version": 3
   },
   "file_extension": ".py",
   "mimetype": "text/x-python",
   "name": "python",
   "nbconvert_exporter": "python",
   "pygments_lexer": "ipython3",
   "version": "3.11.8"
  }
 },
 "nbformat": 4,
 "nbformat_minor": 5
}
