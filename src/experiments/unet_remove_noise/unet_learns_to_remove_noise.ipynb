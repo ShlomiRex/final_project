{
 "cells": [
  {
   "cell_type": "code",
   "execution_count": 1,
   "id": "ec3fcc18",
   "metadata": {},
   "outputs": [],
   "source": [
    "import torch\n",
    "from torchvision import datasets, transforms\n",
    "from torch.utils.data import DataLoader\n",
    "import matplotlib.pyplot as plt\n",
    "import torch.nn as nn\n",
    "import math\n",
    "import torch.nn.functional as F\n",
    "from tqdm import tqdm"
   ]
  },
  {
   "cell_type": "markdown",
   "id": "02402dd2",
   "metadata": {},
   "source": [
    "# UNet for MNIST"
   ]
  },
  {
   "cell_type": "code",
   "execution_count": 2,
   "id": "141ad0b5",
   "metadata": {},
   "outputs": [],
   "source": [
    "class DoubleConvolution(nn.Module):\n",
    "    def __init__(self, in_channels, out_channels):\n",
    "        super().__init__()\n",
    "        self.conv_block = nn.Sequential(\n",
    "            nn.Conv2d(in_channels, out_channels, kernel_size=3, padding=1),\n",
    "            nn.ReLU(inplace=True),\n",
    "            nn.Conv2d(out_channels, out_channels, kernel_size=3, padding=1),\n",
    "            nn.ReLU(inplace=True)\n",
    "        )\n",
    "    \n",
    "    def forward(self, x):\n",
    "        return self.conv_block(x)\n",
    "\n",
    "class DownSampling(nn.Module):\n",
    "    def __init__(self, in_channels, out_channels):\n",
    "        super().__init__()\n",
    "        self.conv = DoubleConvolution(in_channels, out_channels)\n",
    "        self.pool = nn.MaxPool2d(kernel_size=2, stride=2)\n",
    "    \n",
    "    def forward(self, x):\n",
    "        down = self.conv(x)\n",
    "        pool = self.pool(down)\n",
    "\n",
    "        return down, pool\n",
    "\n",
    "class UpSampling(nn.Module):\n",
    "    def __init__(self, in_channels, out_channels):\n",
    "        super().__init__()\n",
    "        self.up = nn.ConvTranspose2d(in_channels, in_channels//2, kernel_size=2, stride=2)\n",
    "        self.conv = DoubleConvolution(in_channels, out_channels)\n",
    "    \n",
    "    def forward(self, x1, x2):\n",
    "        x1 = self.up(x1)\n",
    "        x = torch.cat((x1, x2), dim=1)\n",
    "        return self.conv(x)\n",
    "\n",
    "class UNet(nn.Module):\n",
    "    def __init__(self, in_channels, num_classes):\n",
    "        super().__init__()\n",
    "        self.dconv1 = DownSampling(in_channels, 64)\n",
    "        self.dconv2 = DownSampling(64, 128)\n",
    "        self.dconv3 = DownSampling(128, 256)\n",
    "        self.dconv4 = DownSampling(256, 512)\n",
    "\n",
    "        self.bottle_neck = DoubleConvolution(512, 1024)\n",
    "\n",
    "        self.uconv1 = UpSampling(1024, 512)\n",
    "        self.uconv2 = UpSampling(512, 256)\n",
    "        self.uconv3 = UpSampling(256, 128)\n",
    "        self.uconv4 = UpSampling(128, 64)\n",
    "\n",
    "        self.out = nn.Conv2d(64, num_classes, kernel_size=1)\n",
    "\n",
    "    def forward(self, x):\n",
    "        d1,p1 = self.dconv1(x)\n",
    "        d2,p2 = self.dconv2(p1)\n",
    "        d3,p3 = self.dconv3(p2)\n",
    "        d4,p4 = self.dconv4(p3)\n",
    "\n",
    "        b = self.bottle_neck(p4)\n",
    "\n",
    "        u1 = self.uconv1(b, d4)\n",
    "        u2 = self.uconv2(u1, d3)\n",
    "        u3 = self.uconv3(u2, d2)\n",
    "        u4 = self.uconv4(u3, d1)\n",
    "\n",
    "        out = self.out(u4)\n",
    "        return out"
   ]
  },
  {
   "cell_type": "markdown",
   "id": "4644abba",
   "metadata": {},
   "source": [
    "# Linear noise scheduler"
   ]
  },
  {
   "cell_type": "code",
   "execution_count": 3,
   "id": "6b2f004e",
   "metadata": {},
   "outputs": [],
   "source": [
    "class LinearNoiseScheduler:\n",
    "    def __init__(self, device, timesteps: int = 1000, beta_start: float = 1e-4, beta_end: float = 0.02):\n",
    "        self.timesteps = timesteps\n",
    "\n",
    "        # Start and end are the beta values for the linear noise schedule that we linearly interpolate between (hence linear scheduler)\n",
    "        self.beta_start = beta_start\n",
    "        self.beta_end = beta_end\n",
    "\n",
    "        self.betas = torch.linspace(beta_start, beta_end, timesteps).to(device)\n",
    "        self.alphas = 1.0 - self.betas # Equation 1\n",
    "        self.alpha_hat = torch.cumprod(self.alphas, dim=0).to(device)  # Equation 2\n",
    "\n",
    "    def add_noise(self, x0: torch.Tensor, t: torch.Tensor):\n",
    "        epsilon = torch.randn_like(x0) # Input: x_0 - it returns the same size/shape as the input tensor (i.e. image)\n",
    "\n",
    "        # gather alpha_bars for each sample in the batch\n",
    "        alpha_bar_t = self.alpha_hat[t].view(-1, 1, 1, 1).to(x0.device)\n",
    "        first_term = torch.sqrt(alpha_bar_t) * x0\n",
    "        second_term = torch.sqrt(1 - alpha_bar_t) * epsilon\n",
    "        return first_term + second_term, second_term # Equation 3"
   ]
  },
  {
   "cell_type": "code",
   "execution_count": 4,
   "id": "61d96795",
   "metadata": {},
   "outputs": [
    {
     "name": "stdout",
     "output_type": "stream",
     "text": [
      "Using device: cuda\n"
     ]
    }
   ],
   "source": [
    "device = torch.device(\"cuda\" if torch.cuda.is_available() else \"cpu\")\n",
    "print(f\"Using device: {device}\")"
   ]
  },
  {
   "cell_type": "code",
   "execution_count": 5,
   "id": "ce383b01",
   "metadata": {},
   "outputs": [],
   "source": [
    "model = UNet(in_channels=1, num_classes=1)\n",
    "\n",
    "noise_scheduler = LinearNoiseScheduler(device=device)"
   ]
  },
  {
   "cell_type": "code",
   "execution_count": 6,
   "id": "51e8e6f9",
   "metadata": {},
   "outputs": [
    {
     "data": {
      "text/plain": [
       "tensor([[[[0.0906, 0.0894, 0.0901,  ..., 0.0926, 0.0894, 0.0903],\n",
       "          [0.0887, 0.0915, 0.0914,  ..., 0.0939, 0.0934, 0.0917],\n",
       "          [0.0919, 0.0908, 0.0937,  ..., 0.0943, 0.0962, 0.0963],\n",
       "          ...,\n",
       "          [0.0921, 0.0933, 0.0885,  ..., 0.1032, 0.1018, 0.0954],\n",
       "          [0.0922, 0.0959, 0.0949,  ..., 0.0960, 0.0981, 0.0926],\n",
       "          [0.0902, 0.0948, 0.0930,  ..., 0.0923, 0.0941, 0.0940]]]],\n",
       "       grad_fn=<ConvolutionBackward0>)"
      ]
     },
     "execution_count": 6,
     "metadata": {},
     "output_type": "execute_result"
    }
   ],
   "source": [
    "model(torch.randn(1, 1, 32, 32))  # Test the model with a random input\n",
    "model(F.pad(torch.randn(1, 1, 28, 28), pad=(2, 2, 2, 2)))  # The image must be divisible by 2^4 = 16 because we have 4 downsampling layers"
   ]
  },
  {
   "cell_type": "code",
   "execution_count": 7,
   "id": "a886f131",
   "metadata": {},
   "outputs": [],
   "source": [
    "transform = transforms.Compose([\n",
    "    transforms.ToTensor(),  # Convert image to PyTorch tensor\n",
    "    transforms.Normalize((0.1307,), (0.3081,))  # Normalize using MNIST mean & std\n",
    "])\n",
    "\n",
    "train_dataset = datasets.MNIST(root='../../data', train=True, download=True, transform=transform)\n",
    "test_dataset  = datasets.MNIST(root='../../data', train=False, download=True, transform=transform)\n",
    "\n",
    "train_loader = DataLoader(train_dataset, batch_size=64, shuffle=True)\n",
    "test_loader  = DataLoader(test_dataset, batch_size=64, shuffle=False)"
   ]
  },
  {
   "cell_type": "markdown",
   "id": "f08754da",
   "metadata": {},
   "source": [
    "# Train on MNIST dataset and add noise"
   ]
  },
  {
   "cell_type": "code",
   "execution_count": 8,
   "id": "a40792a6",
   "metadata": {},
   "outputs": [
    {
     "name": "stderr",
     "output_type": "stream",
     "text": [
      "Epoch 1/30: 100%|██████████| 938/938 [00:53<00:00, 17.70it/s, loss=0]\n"
     ]
    },
    {
     "name": "stdout",
     "output_type": "stream",
     "text": [
      "Epoch 1 - Loss: 0.0000\n"
     ]
    },
    {
     "name": "stderr",
     "output_type": "stream",
     "text": [
      "Epoch 2/30: 100%|██████████| 938/938 [00:52<00:00, 18.03it/s, loss=0]\n"
     ]
    },
    {
     "name": "stdout",
     "output_type": "stream",
     "text": [
      "Epoch 2 - Loss: 0.0000\n"
     ]
    },
    {
     "name": "stderr",
     "output_type": "stream",
     "text": [
      "Epoch 3/30: 100%|██████████| 938/938 [00:50<00:00, 18.47it/s, loss=0]\n"
     ]
    },
    {
     "name": "stdout",
     "output_type": "stream",
     "text": [
      "Epoch 3 - Loss: 0.0000\n"
     ]
    },
    {
     "name": "stderr",
     "output_type": "stream",
     "text": [
      "Epoch 4/30: 100%|██████████| 938/938 [00:51<00:00, 18.11it/s, loss=0]\n"
     ]
    },
    {
     "name": "stdout",
     "output_type": "stream",
     "text": [
      "Epoch 4 - Loss: 0.0000\n"
     ]
    },
    {
     "name": "stderr",
     "output_type": "stream",
     "text": [
      "Epoch 5/30: 100%|██████████| 938/938 [00:51<00:00, 18.25it/s, loss=0]\n"
     ]
    },
    {
     "name": "stdout",
     "output_type": "stream",
     "text": [
      "Epoch 5 - Loss: 0.0000\n"
     ]
    },
    {
     "name": "stderr",
     "output_type": "stream",
     "text": [
      "Epoch 6/30: 100%|██████████| 938/938 [00:51<00:00, 18.12it/s, loss=0]\n"
     ]
    },
    {
     "name": "stdout",
     "output_type": "stream",
     "text": [
      "Epoch 6 - Loss: 0.0000\n"
     ]
    },
    {
     "name": "stderr",
     "output_type": "stream",
     "text": [
      "Epoch 7/30: 100%|██████████| 938/938 [00:50<00:00, 18.57it/s, loss=0]\n"
     ]
    },
    {
     "name": "stdout",
     "output_type": "stream",
     "text": [
      "Epoch 7 - Loss: 0.0000\n"
     ]
    },
    {
     "name": "stderr",
     "output_type": "stream",
     "text": [
      "Epoch 8/30: 100%|██████████| 938/938 [00:50<00:00, 18.44it/s, loss=0]\n"
     ]
    },
    {
     "name": "stdout",
     "output_type": "stream",
     "text": [
      "Epoch 8 - Loss: 0.0000\n"
     ]
    },
    {
     "name": "stderr",
     "output_type": "stream",
     "text": [
      "Epoch 9/30: 100%|██████████| 938/938 [00:51<00:00, 18.36it/s, loss=0]\n"
     ]
    },
    {
     "name": "stdout",
     "output_type": "stream",
     "text": [
      "Epoch 9 - Loss: 0.0000\n"
     ]
    },
    {
     "name": "stderr",
     "output_type": "stream",
     "text": [
      "Epoch 10/30: 100%|██████████| 938/938 [00:50<00:00, 18.42it/s, loss=0]\n"
     ]
    },
    {
     "name": "stdout",
     "output_type": "stream",
     "text": [
      "Epoch 10 - Loss: 0.0000\n"
     ]
    },
    {
     "name": "stderr",
     "output_type": "stream",
     "text": [
      "Epoch 11/30: 100%|██████████| 938/938 [00:50<00:00, 18.52it/s, loss=0]\n"
     ]
    },
    {
     "name": "stdout",
     "output_type": "stream",
     "text": [
      "Epoch 11 - Loss: 0.0000\n"
     ]
    },
    {
     "name": "stderr",
     "output_type": "stream",
     "text": [
      "Epoch 12/30: 100%|██████████| 938/938 [00:51<00:00, 18.39it/s, loss=0]\n"
     ]
    },
    {
     "name": "stdout",
     "output_type": "stream",
     "text": [
      "Epoch 12 - Loss: 0.0000\n"
     ]
    },
    {
     "name": "stderr",
     "output_type": "stream",
     "text": [
      "Epoch 13/30: 100%|██████████| 938/938 [00:54<00:00, 17.34it/s, loss=0]\n"
     ]
    },
    {
     "name": "stdout",
     "output_type": "stream",
     "text": [
      "Epoch 13 - Loss: 0.0000\n"
     ]
    },
    {
     "name": "stderr",
     "output_type": "stream",
     "text": [
      "Epoch 14/30: 100%|██████████| 938/938 [00:54<00:00, 17.32it/s, loss=0]\n"
     ]
    },
    {
     "name": "stdout",
     "output_type": "stream",
     "text": [
      "Epoch 14 - Loss: 0.0000\n"
     ]
    },
    {
     "name": "stderr",
     "output_type": "stream",
     "text": [
      "Epoch 15/30: 100%|██████████| 938/938 [00:51<00:00, 18.18it/s, loss=0]\n"
     ]
    },
    {
     "name": "stdout",
     "output_type": "stream",
     "text": [
      "Epoch 15 - Loss: 0.0000\n"
     ]
    },
    {
     "name": "stderr",
     "output_type": "stream",
     "text": [
      "Epoch 16/30: 100%|██████████| 938/938 [00:51<00:00, 18.10it/s, loss=0]\n"
     ]
    },
    {
     "name": "stdout",
     "output_type": "stream",
     "text": [
      "Epoch 16 - Loss: 0.0000\n"
     ]
    },
    {
     "name": "stderr",
     "output_type": "stream",
     "text": [
      "Epoch 17/30: 100%|██████████| 938/938 [00:55<00:00, 17.02it/s, loss=0]\n"
     ]
    },
    {
     "name": "stdout",
     "output_type": "stream",
     "text": [
      "Epoch 17 - Loss: 0.0000\n"
     ]
    },
    {
     "name": "stderr",
     "output_type": "stream",
     "text": [
      "Epoch 18/30: 100%|██████████| 938/938 [00:54<00:00, 17.07it/s, loss=0]\n"
     ]
    },
    {
     "name": "stdout",
     "output_type": "stream",
     "text": [
      "Epoch 18 - Loss: 0.0000\n"
     ]
    },
    {
     "name": "stderr",
     "output_type": "stream",
     "text": [
      "Epoch 19/30: 100%|██████████| 938/938 [00:58<00:00, 16.17it/s, loss=0]\n"
     ]
    },
    {
     "name": "stdout",
     "output_type": "stream",
     "text": [
      "Epoch 19 - Loss: 0.0000\n"
     ]
    },
    {
     "name": "stderr",
     "output_type": "stream",
     "text": [
      "Epoch 20/30: 100%|██████████| 938/938 [00:53<00:00, 17.47it/s, loss=0]\n"
     ]
    },
    {
     "name": "stdout",
     "output_type": "stream",
     "text": [
      "Epoch 20 - Loss: 0.0000\n"
     ]
    },
    {
     "name": "stderr",
     "output_type": "stream",
     "text": [
      "Epoch 21/30: 100%|██████████| 938/938 [00:54<00:00, 17.17it/s, loss=0]\n"
     ]
    },
    {
     "name": "stdout",
     "output_type": "stream",
     "text": [
      "Epoch 21 - Loss: 0.0000\n"
     ]
    },
    {
     "name": "stderr",
     "output_type": "stream",
     "text": [
      "Epoch 22/30: 100%|██████████| 938/938 [00:53<00:00, 17.62it/s, loss=0]\n"
     ]
    },
    {
     "name": "stdout",
     "output_type": "stream",
     "text": [
      "Epoch 22 - Loss: 0.0000\n"
     ]
    },
    {
     "name": "stderr",
     "output_type": "stream",
     "text": [
      "Epoch 23/30: 100%|██████████| 938/938 [00:53<00:00, 17.53it/s, loss=0]\n"
     ]
    },
    {
     "name": "stdout",
     "output_type": "stream",
     "text": [
      "Epoch 23 - Loss: 0.0000\n"
     ]
    },
    {
     "name": "stderr",
     "output_type": "stream",
     "text": [
      "Epoch 24/30: 100%|██████████| 938/938 [00:53<00:00, 17.43it/s, loss=0]\n"
     ]
    },
    {
     "name": "stdout",
     "output_type": "stream",
     "text": [
      "Epoch 24 - Loss: 0.0000\n"
     ]
    },
    {
     "name": "stderr",
     "output_type": "stream",
     "text": [
      "Epoch 25/30: 100%|██████████| 938/938 [00:58<00:00, 15.93it/s, loss=0]\n"
     ]
    },
    {
     "name": "stdout",
     "output_type": "stream",
     "text": [
      "Epoch 25 - Loss: 0.0000\n"
     ]
    },
    {
     "name": "stderr",
     "output_type": "stream",
     "text": [
      "Epoch 26/30: 100%|██████████| 938/938 [00:53<00:00, 17.65it/s, loss=0]\n"
     ]
    },
    {
     "name": "stdout",
     "output_type": "stream",
     "text": [
      "Epoch 26 - Loss: 0.0000\n"
     ]
    },
    {
     "name": "stderr",
     "output_type": "stream",
     "text": [
      "Epoch 27/30: 100%|██████████| 938/938 [00:52<00:00, 17.94it/s, loss=0]\n"
     ]
    },
    {
     "name": "stdout",
     "output_type": "stream",
     "text": [
      "Epoch 27 - Loss: 0.0000\n"
     ]
    },
    {
     "name": "stderr",
     "output_type": "stream",
     "text": [
      "Epoch 28/30: 100%|██████████| 938/938 [00:53<00:00, 17.60it/s, loss=0]\n"
     ]
    },
    {
     "name": "stdout",
     "output_type": "stream",
     "text": [
      "Epoch 28 - Loss: 0.0000\n"
     ]
    },
    {
     "name": "stderr",
     "output_type": "stream",
     "text": [
      "Epoch 29/30: 100%|██████████| 938/938 [00:52<00:00, 17.91it/s, loss=0]\n"
     ]
    },
    {
     "name": "stdout",
     "output_type": "stream",
     "text": [
      "Epoch 29 - Loss: 0.0000\n"
     ]
    },
    {
     "name": "stderr",
     "output_type": "stream",
     "text": [
      "Epoch 30/30: 100%|██████████| 938/938 [00:51<00:00, 18.06it/s, loss=0]\n"
     ]
    },
    {
     "name": "stdout",
     "output_type": "stream",
     "text": [
      "Epoch 30 - Loss: 0.0000\n"
     ]
    },
    {
     "data": {
      "image/png": "[encoded data removed]",
      "text/plain": [
       "<Figure size 640x480 with 1 Axes>"
      ]
     },
     "metadata": {},
     "output_type": "display_data"
    }
   ],
   "source": [
    "lr = 1e-4\n",
    "epochs = 5\n",
    "batch_size = 64\n",
    "\n",
    "model = model.to(device)\n",
    "optimizer = torch.optim.Adam(model.parameters(), lr=lr)\n",
    "loss_fn = nn.CrossEntropyLoss()\n",
    "\n",
    "model.train()\n",
    "\n",
    "for epoch in range(epochs):\n",
    "    running_loss = 0.0\n",
    "    pbar = tqdm(train_loader, desc=f\"Epoch {epoch+1}/{epochs}\")\n",
    "    for batch_of_imgs, _ in pbar:\n",
    "        batch_of_imgs = batch_of_imgs.to(device)  # Shape: [B, 1, 28, 28]\n",
    "\n",
    "        # Pad to 32x32 to work with 4 downsamplings\n",
    "        batch_of_imgs = F.pad(batch_of_imgs, pad=(2, 2, 2, 2))\n",
    "\n",
    "        # Sample random timesteps\n",
    "        timesteps = torch.randint(0, noise_scheduler.timesteps, (batch_of_imgs.size(0),), device=device)\n",
    "\n",
    "        # Add noise and get the actual noise\n",
    "        noisy_img, noise_to_predict = noise_scheduler.add_noise(batch_of_imgs, timesteps)\n",
    "\n",
    "        # Plot a single noisy image\n",
    "        plt.imshow(noisy_img[0].cpu().detach().numpy().squeeze(), cmap='gray')\n",
    "\n",
    "        # Predict noise\n",
    "        pred_noise = model(noisy_img)\n",
    "\n",
    "        # Compute loss\n",
    "        loss = loss_fn(pred_noise, noise_to_predict)\n",
    "        optimizer.zero_grad()\n",
    "        loss.backward()\n",
    "        optimizer.step()\n",
    "\n",
    "        running_loss += loss.item()\n",
    "        pbar.set_postfix(loss=running_loss / (pbar.n + 1e-8))\n",
    "\n",
    "    print(f\"Epoch {epoch+1} - Loss: {running_loss / len(train_loader):.4f}\")"
   ]
  },
  {
   "cell_type": "code",
   "execution_count": 9,
   "id": "bb8fa590",
   "metadata": {},
   "outputs": [],
   "source": [
    "# Save model\n",
    "torch.save(model.state_dict(), \"unet_denoiser_mnist.pth\")"
   ]
  },
  {
   "cell_type": "code",
   "execution_count": 10,
   "id": "f2783313",
   "metadata": {},
   "outputs": [
    {
     "name": "stdout",
     "output_type": "stream",
     "text": [
      "Test Loss: -0.0000\n"
     ]
    },
    {
     "data": {
      "image/png": "[encoded data removed]",
      "text/plain": [
       "<Figure size 1200x400 with 3 Axes>"
      ]
     },
     "metadata": {},
     "output_type": "display_data"
    }
   ],
   "source": [
    "# Load an image from MNIST, then add noise, and then run the model to denoise it\n",
    "model.eval()\n",
    "with torch.no_grad():\n",
    "    test_img, _ = next(iter(test_loader))\n",
    "    test_img = test_img[0].unsqueeze(0).to(device)  # Shape: [1, 1, 28, 28]\n",
    "    test_img = F.pad(test_img, pad=(2, 2, 2, 2))  # Pad to 32x32\n",
    "\n",
    "    # Sample random timesteps\n",
    "    timesteps = torch.randint(0, noise_scheduler.timesteps, (test_img.size(0),), device=device)\n",
    "\n",
    "    # Add noise and get the actual noise\n",
    "    noisy_test_img, noise_to_predict = noise_scheduler.add_noise(test_img, timesteps)\n",
    "\n",
    "    # Predict noise\n",
    "    pred_noise = model(noisy_test_img)\n",
    "\n",
    "    # Compute loss\n",
    "    loss = loss_fn(pred_noise, noise_to_predict)\n",
    "    print(f\"Test Loss: {loss.item():.4f}\")\n",
    "\n",
    "    # Plot original image, noisy image and denoised image\n",
    "    plt.figure(figsize=(12, 4))\n",
    "    plt.subplot(1, 3, 1)\n",
    "    plt.title(\"Original Image\")\n",
    "    plt.imshow(test_img[0].cpu().detach().numpy().squeeze(), cmap='gray')\n",
    "\n",
    "    plt.subplot(1, 3, 2)\n",
    "    plt.title(\"Noisy Image\")\n",
    "    plt.imshow(noisy_test_img[0].cpu().detach().numpy().squeeze(), cmap='gray')\n",
    "\n",
    "    plt.subplot(1, 3, 3)\n",
    "    plt.title(\"Denoised Image\")\n",
    "    plt.imshow(pred_noise[0].cpu().detach().numpy().squeeze(), cmap='gray')"
   ]
  }
 ],
 "metadata": {
  "kernelspec": {
   "display_name": "text-conditioned-image-generation-using-st-35DVCAXA-py3.11",
   "language": "python",
   "name": "python3"
  },
  "language_info": {
   "codemirror_mode": {
    "name": "ipython",
    "version": 3
   },
   "file_extension": ".py",
   "mimetype": "text/x-python",
   "name": "python",
   "nbconvert_exporter": "python",
   "pygments_lexer": "ipython3",
   "version": "3.11.8"
  }
 },
 "nbformat": 4,
 "nbformat_minor": 5
}
