{
 "cells": [
  {
   "cell_type": "code",
   "execution_count": null,
   "id": "0bd2c6e9",
   "metadata": {},
   "outputs": [],
   "source": [
    "import torch\n",
    "import torchvision\n",
    "import matplotlib.pyplot as plt"
   ]
  },
  {
   "cell_type": "code",
   "execution_count": null,
   "id": "d4b122a0",
   "metadata": {},
   "outputs": [],
   "source": [
    "def show_image(dataset, num_samples=20, cols=4):\n",
    "    plt.figure(figsize=(15, 15))\n",
    "    for i, img in enumerate(dataset):\n",
    "        if i == num_samples:\n",
    "            break\n",
    "        plt.subplot(num_samples / cols + 1, cols, i + 1)\n",
    "        plt.imshow(img[0])\n",
    "\n",
    "dataset = torchvision.datasets.StanfordCars(root=\"../../data\", download=True)\n",
    "show_image(dataset)"
   ]
  }
 ],
 "metadata": {
  "language_info": {
   "name": "python"
  }
 },
 "nbformat": 4,
 "nbformat_minor": 5
}
