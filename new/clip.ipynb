{
 "cells": [
  {
   "cell_type": "code",
   "execution_count": 1,
   "id": "d1bb44f0",
   "metadata": {},
   "outputs": [
    {
     "name": "stderr",
     "output_type": "stream",
     "text": [
      "c:\\Users\\Shlomi\\AppData\\Local\\pypoetry\\Cache\\virtualenvs\\text-conditioned-image-generation-using-st-35DVCAXA-py3.11\\Lib\\site-packages\\tqdm\\auto.py:21: TqdmWarning: IProgress not found. Please update jupyter and ipywidgets. See https://ipywidgets.readthedocs.io/en/stable/user_install.html\n",
      "  from .autonotebook import tqdm as notebook_tqdm\n"
     ]
    }
   ],
   "source": [
    "from transformers import CLIPTextModel, CLIPTokenizer\n"
   ]
  },
  {
   "cell_type": "code",
   "execution_count": 2,
   "id": "d1a21ed2",
   "metadata": {},
   "outputs": [],
   "source": [
    "tokenizer = CLIPTokenizer.from_pretrained(\"openai/clip-vit-large-patch14\")\n",
    "text_encoder = CLIPTextModel.from_pretrained(\"openai/clip-vit-large-patch14\")\n",
    "\n",
    "prompt = \"a cute cat in a spaceship\"\n",
    "tokens = tokenizer(prompt, return_tensors=\"pt\")\n",
    "text_embeds = text_encoder(**tokens).last_hidden_state  # (batch, seq_len, hidden_dim)"
   ]
  },
  {
   "cell_type": "code",
   "execution_count": 3,
   "id": "45cad99d",
   "metadata": {},
   "outputs": [
    {
     "data": {
      "text/plain": [
       "tensor([[[-0.3884,  0.0229, -0.0522,  ..., -0.4899, -0.3066,  0.0675],\n",
       "         [ 0.0290, -1.3258,  0.3085,  ..., -0.5257,  0.9768,  0.6652],\n",
       "         [-0.5459,  0.1065, -0.0130,  ..., -0.5806, -0.9021,  0.1284],\n",
       "         ...,\n",
       "         [-1.4870,  0.7249,  0.0413,  ...,  0.2046,  0.0075, -0.5950],\n",
       "         [-0.8769,  0.1283,  1.2984,  ..., -1.0998,  0.6869,  0.4761],\n",
       "         [-0.4686,  0.1889,  0.1164,  ..., -0.5540,  0.8237, -0.7554]]],\n",
       "       grad_fn=<NativeLayerNormBackward0>)"
      ]
     },
     "execution_count": 3,
     "metadata": {},
     "output_type": "execute_result"
    }
   ],
   "source": [
    "text_embeds"
   ]
  }
 ],
 "metadata": {
  "kernelspec": {
   "display_name": "text-conditioned-image-generation-using-st-35DVCAXA-py3.11",
   "language": "python",
   "name": "python3"
  },
  "language_info": {
   "codemirror_mode": {
    "name": "ipython",
    "version": 3
   },
   "file_extension": ".py",
   "mimetype": "text/x-python",
   "name": "python",
   "nbconvert_exporter": "python",
   "pygments_lexer": "ipython3",
   "version": "3.11.8"
  }
 },
 "nbformat": 4,
 "nbformat_minor": 5
}
