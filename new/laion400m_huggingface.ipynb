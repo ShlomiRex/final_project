{
 "cells": [
  {
   "cell_type": "code",
   "execution_count": 13,
   "id": "5714e393",
   "metadata": {},
   "outputs": [],
   "source": [
    "from datasets import load_dataset\n",
    "import os"
   ]
  },
  {
   "cell_type": "code",
   "execution_count": 14,
   "id": "969df273",
   "metadata": {},
   "outputs": [
    {
     "name": "stderr",
     "output_type": "stream",
     "text": [
      "Downloading data: 100%|██████████| 128/128 [14:57<00:00,  7.01s/files]\n",
      "Generating train split: 100%|██████████| 361020613/361020613 [22:45<00:00, 264470.46 examples/s] \n"
     ]
    }
   ],
   "source": [
    "dataset_path = \"laion/laion400m\"\n",
    "dir = r\"D:\\hf_datadir\"\n",
    "dataset = load_dataset(dataset_path, split=\"train[:1%]\", cache_dir=dir)"
   ]
  },
  {
   "cell_type": "code",
   "execution_count": 16,
   "id": "efa4ce3d",
   "metadata": {},
   "outputs": [
    {
     "data": {
      "text/plain": [
       "{'url': 'http://t0.gstatic.com/images?q=tbn:ANd9GcTnX7EwHrzccCd3Ki1mmjgocoPMPB_aGKw4g9PrghYZX1ojZiuS',\n",
       " 'NSFW': 'UNLIKELY',\n",
       " 'similarity': 0.30712828040122986,\n",
       " 'LICENSE': '?',\n",
       " 'caption': 'bedroom minimalist home interior storage for kids bedroom design',\n",
       " 'key': 9048,\n",
       " 'original_width': 277,\n",
       " 'original_height': 182}"
      ]
     },
     "execution_count": 16,
     "metadata": {},
     "output_type": "execute_result"
    }
   ],
   "source": [
    "dataset[0]"
   ]
  }
 ],
 "metadata": {
  "kernelspec": {
   "display_name": "text-conditioned-image-generation-using-st-35DVCAXA-py3.11",
   "language": "python",
   "name": "python3"
  },
  "language_info": {
   "codemirror_mode": {
    "name": "ipython",
    "version": 3
   },
   "file_extension": ".py",
   "mimetype": "text/x-python",
   "name": "python",
   "nbconvert_exporter": "python",
   "pygments_lexer": "ipython3",
   "version": "3.11.8"
  }
 },
 "nbformat": 4,
 "nbformat_minor": 5
}
