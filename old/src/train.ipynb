{
 "cells": [
  {
   "cell_type": "code",
   "execution_count": 18,
   "id": "76054edf",
   "metadata": {},
   "outputs": [],
   "source": [
    "from torch.optim import Adam\n",
    "import torch\n",
    "import torchvision\n",
    "from torchvision.transforms import transforms\n",
    "from torchvision import datasets\n",
    "from torch.utils.data import DataLoader\n",
    "from tqdm import tqdm\n",
    "from model import Model\n",
    "import mlflow\n",
    "import matplotlib.pyplot as plt\n",
    "from einops import rearrange\n",
    "import torch.nn.functional as F\n",
    "import tempfile\n",
    "from win10toast import ToastNotifier\n",
    "import os\n",
    "from torchmetrics.image.fid import FrechetInceptionDistance\n",
    "from torchmetrics.image.inception import InceptionScore"
   ]
  },
  {
   "cell_type": "markdown",
   "id": "6d7f1bcd",
   "metadata": {},
   "source": [
    "# Setup model + parameters"
   ]
  },
  {
   "cell_type": "code",
   "execution_count": 19,
   "id": "ca863e9d",
   "metadata": {},
   "outputs": [
    {
     "name": "stdout",
     "output_type": "stream",
     "text": [
      "Using device: cuda\n"
     ]
    }
   ],
   "source": [
    "model = Model(num_classes=1)\n",
    "\n",
    "device = \"cuda\" if torch.cuda.is_available() else \"cpu\"\n",
    "print(f\"Using device: {device}\")\n",
    "\n",
    "model.to(device)\n",
    "\n",
    "LR = 0.001\n",
    "optimizer = Adam(model.parameters(), lr=LR)\n",
    "\n",
    "EPOCHS = 15\n",
    "IMG_SIZE = 32\n",
    "BATCH_SIZE = 64\n",
    "T = 300"
   ]
  },
  {
   "cell_type": "markdown",
   "id": "82224619",
   "metadata": {},
   "source": [
    "# Datasets"
   ]
  },
  {
   "cell_type": "code",
   "execution_count": 20,
   "id": "2e3a70da",
   "metadata": {},
   "outputs": [],
   "source": [
    "data_transform = transforms.Compose([\n",
    "    transforms.RandomHorizontalFlip(), # Randomly flip horizontally so we have slightly different images every epoch\n",
    "    transforms.Pad(2),\n",
    "    transforms.ToTensor(),\n",
    "])\n",
    "\n",
    "train = torchvision.datasets.FashionMNIST(root=\"./data\", download=True, transform=data_transform, train=True)\n",
    "\n",
    "test = torchvision.datasets.FashionMNIST(root=\"./data\", download=True, transform=data_transform, train=False)\n",
    "\n",
    "\n",
    "train_dataloader = DataLoader(train, batch_size=BATCH_SIZE, shuffle=True, drop_last=True)\n",
    "test_dataloader = DataLoader(test, batch_size=BATCH_SIZE, shuffle=False, drop_last=True)"
   ]
  },
  {
   "cell_type": "code",
   "execution_count": 21,
   "id": "6e3eec95",
   "metadata": {},
   "outputs": [],
   "source": [
    "# imgs, lbls = next(iter(train_dataloader))\n",
    "# print(f\"Image shape: {imgs.shape}, Labels shape: {lbls.shape}\")\n",
    "\n",
    "# def model_forward(model, imgs: torch.Tensor, t: torch.Tensor):\n",
    "#     model.eval()\n",
    "#     with torch.no_grad():\n",
    "#         imgs = imgs.to(device)\n",
    "#         noise_pred = model(imgs, t)\n",
    "#         noise_pred = noise_pred.cpu().numpy()\n",
    "#     return noise_pred\n",
    "\n",
    "# noise_pred = model_forward(model, imgs, torch.empty((BATCH_SIZE, 1)).to(device))\n",
    "\n",
    "# fig, axes = plt.subplots(1, 2, figsize=(10, 5))\n",
    "\n",
    "# axes[0].imshow(imgs[0].detach().cpu().squeeze(), cmap=\"gray\")\n",
    "# axes[1].imshow(noise_pred[0].squeeze(), cmap=\"gray\")\n",
    "# plt.show()"
   ]
  },
  {
   "cell_type": "code",
   "execution_count": 22,
   "id": "b295cb90",
   "metadata": {},
   "outputs": [],
   "source": [
    "# t = torch.randint(1, 50, imgs.shape)\n",
    "\n",
    "# imgs = imgs.to(device)\n",
    "# noisy_imgs, noise, first_term, second_term = model.noise_scheduler(imgs, t)\n",
    "\n",
    "# imgs = imgs.cpu()\n",
    "# noisy_imgs = noisy_imgs.cpu()\n",
    "# noise = noise.cpu()\n",
    "# first_term = first_term.cpu()\n",
    "# second_term = second_term.cpu()\n",
    "\n",
    "# idx = 1\n",
    "# img = imgs[idx]\n",
    "# noisy_img = noisy_imgs[idx]\n",
    "# noise_idx = noise[idx]\n",
    "# first_term_idx = first_term[idx]\n",
    "# second_term_idx = second_term[idx]\n",
    "\n",
    "# plt.subplot(1, 4, 1)\n",
    "# plt.imshow(rearrange(img, \"b h w -> h w b\"), cmap=\"gray\")\n",
    "# plt.title(\"Original Image\")\n",
    "\n",
    "# plt.subplot(1, 4, 2)\n",
    "# plt.imshow(rearrange(noise_idx, \"b h w -> h w b\"), cmap=\"gray\")\n",
    "# plt.title(\"Noise\")\n",
    "\n",
    "# plt.subplot(1, 4, 3)\n",
    "# plt.imshow(rearrange(noisy_img, \"b h w -> h w b\"), cmap=\"gray\")\n",
    "# plt.title(\"Noisy image\")\n",
    "\n",
    "# probably_original_image = noisy_img - first_term_idx - second_term_idx\n",
    "\n",
    "# plt.subplot(1, 4, 4)\n",
    "# plt.imshow(rearrange(probably_original_image, \"b h w -> h w b\"), cmap=\"gray\")\n",
    "# plt.title(\"Noisy image minus noise\")\n",
    "\n",
    "# plt.tight_layout()\n",
    "# plt.show()"
   ]
  },
  {
   "cell_type": "code",
   "execution_count": 23,
   "id": "3106328b",
   "metadata": {},
   "outputs": [],
   "source": [
    "train_dataset = datasets.MNIST(root='../../data', train=True, download=True, transform=data_transform)\n",
    "test_dataset  = datasets.MNIST(root='../../data', train=False, download=True, transform=data_transform)\n",
    "\n",
    "train_loader = DataLoader(train_dataset, batch_size=64, shuffle=True)\n",
    "test_loader  = DataLoader(test_dataset, batch_size=64, shuffle=False)"
   ]
  },
  {
   "cell_type": "markdown",
   "id": "04f7dc84",
   "metadata": {},
   "source": [
    "Show noise schedule original image, noisy image, noise, and noisy image minus the noise"
   ]
  },
  {
   "cell_type": "code",
   "execution_count": 24,
   "id": "317fff13",
   "metadata": {},
   "outputs": [],
   "source": [
    "# noise_sched = model.noise_scheduler\n",
    "# images, labels = next(iter(train_loader))\n",
    "\n",
    "# # Forward diffusion for the first image\n",
    "# image = images[0].to(device)\n",
    "# timestep = 100\n",
    "# noisy_img, noise, first_term, second_term = noise_sched.forward(image, timestep)\n",
    "\n",
    "# # Noisy image minus the noise\n",
    "# minus = noisy_img - second_term\n",
    "\n",
    "# # Plot different images\n",
    "# image = rearrange(image, \"b h w -> h w b\")\n",
    "# noisy_img = rearrange(noisy_img, \"b h w -> h w b\")\n",
    "# minus = rearrange(minus, \"b h w -> h w b\")\n",
    "# second_term = rearrange(second_term, \"b h w -> h w b\")\n",
    "# first_term = rearrange(first_term, \"b h w -> h w b\")\n",
    "# noise = rearrange(noise, \"b h w -> h w b\")\n",
    "\n",
    "# plt.subplot(1, 6, 1)\n",
    "# plt.imshow(image.cpu().numpy(), cmap='gray')\n",
    "# plt.title('Original')\n",
    "# plt.axis('off')\n",
    "# plt.subplot(1, 6, 2)\n",
    "# plt.imshow(noisy_img.cpu().numpy(), cmap='gray')\n",
    "# plt.title('Noisy img')\n",
    "# plt.axis('off')\n",
    "# plt.subplot(1, 6, 3)\n",
    "# plt.imshow(second_term.cpu().numpy(), cmap='gray')\n",
    "# plt.title('Second term')\n",
    "# plt.axis('off')\n",
    "# plt.axis('off')\n",
    "# plt.subplot(1, 6, 4)\n",
    "# plt.imshow(minus.cpu().numpy(), cmap='gray')\n",
    "# plt.title('Minus')\n",
    "# plt.axis('off')\n",
    "# plt.subplot(1, 6, 5)\n",
    "# plt.imshow(noise.cpu().numpy(), cmap='gray')\n",
    "# plt.title('Noise')\n",
    "# plt.axis('off')\n",
    "# plt.subplot(1, 6, 6)\n",
    "# plt.imshow(first_term.cpu().numpy(), cmap='gray')\n",
    "# plt.title('First term')\n",
    "# plt.axis('off')\n",
    "\n",
    "# plt.subplots_adjust(wspace=1)  # adjust this value as needed\n",
    "\n",
    "# plt.show()\n"
   ]
  },
  {
   "cell_type": "markdown",
   "id": "7fb0c4e9",
   "metadata": {},
   "source": [
    "Show noise schedule original image, noisy image, noise, "
   ]
  },
  {
   "cell_type": "markdown",
   "id": "200d1684",
   "metadata": {},
   "source": [
    "# Train"
   ]
  },
  {
   "cell_type": "code",
   "execution_count": 25,
   "id": "195bfe32",
   "metadata": {},
   "outputs": [
    {
     "name": "stdout",
     "output_type": "stream",
     "text": [
      "🏃 View run rumbling-smelt-878 at: http://127.0.0.1:5000/#/experiments/0/runs/2d4a26d72e6a4849bb48559d70794ac2\n",
      "🧪 View experiment at: http://127.0.0.1:5000/#/experiments/0\n"
     ]
    }
   ],
   "source": [
    "EXPERIMENT_NAME = \"MNIST_Training\"\n",
    "\n",
    "mlflow.end_run() # just in case"
   ]
  },
  {
   "cell_type": "code",
   "execution_count": 26,
   "id": "3d48e7d6",
   "metadata": {},
   "outputs": [
    {
     "data": {
      "image/png": "[encoded data removed]",
      "text/plain": [
       "<Figure size 3200x3200 with 8 Axes>"
      ]
     },
     "metadata": {},
     "output_type": "display_data"
    }
   ],
   "source": [
    "def log_plot_inference_and_fid_is_metrics(model, epoch, imgs, t, log_artifact: bool = True):\n",
    "    \"\"\"\n",
    "    Plots the inference. Plots the original image, noisy image, first term, second term, predicted noise, and noisy image minus predicted noise.\n",
    "    \"\"\"\n",
    "    x_noisy, noise, first_term, second_term = model.noise_scheduler(imgs, t)\n",
    "    noise_pred = model(x_noisy, t)\n",
    "\n",
    "    # Plot original image, noisy image, noise, and predicted noise\n",
    "    idx = 0\n",
    "    original_image = imgs[idx].cpu()\n",
    "    noisy_image = x_noisy[idx].cpu()\n",
    "    noise_idx = noise[idx].cpu()\n",
    "    first_term_image = first_term[idx].cpu()\n",
    "    second_term_image = second_term[idx].cpu()\n",
    "    predicted_noise_image = noise_pred[idx].cpu().detach()\n",
    "    t_idx = t[idx].cpu().item()\n",
    "    minus = noisy_image - second_term_image\n",
    "    noisy_minus_pred = noisy_image - predicted_noise_image\n",
    "\n",
    "    num_of_subplots = 8\n",
    "    subplot_index = 0\n",
    "\n",
    "    fig, axes = plt.subplots(1, num_of_subplots, figsize=(32, 32))\n",
    "    axes[subplot_index].imshow(rearrange(original_image, \"c h w -> h w c\"), cmap=\"gray\")\n",
    "    axes[subplot_index].set_title(\"Original\")\n",
    "    subplot_index += 1\n",
    "\n",
    "    axes[subplot_index].imshow(rearrange(noisy_image, \"c h w -> h w c\"), cmap=\"gray\")\n",
    "    axes[subplot_index].set_title(\"Noisy (t=\"+str(t_idx)+\")\")\n",
    "    subplot_index += 1\n",
    "\n",
    "    axes[subplot_index].imshow(rearrange(noise_idx, \"c h w -> h w c\"), cmap=\"gray\")\n",
    "    axes[subplot_index].set_title(\"Noise\")\n",
    "    subplot_index += 1\n",
    "\n",
    "    axes[subplot_index].imshow(rearrange(first_term_image, \"c h w -> h w c\"), cmap=\"gray\")\n",
    "    axes[subplot_index].set_title(\"First term\")\n",
    "    subplot_index += 1\n",
    "\n",
    "    axes[subplot_index].imshow(rearrange(second_term_image, \"c h w -> h w c\"), cmap=\"gray\")\n",
    "    axes[subplot_index].set_title(\"Second term\")\n",
    "    subplot_index += 1\n",
    "\n",
    "    axes[subplot_index].imshow(rearrange(predicted_noise_image, \"c h w -> h w c\"), cmap=\"gray\")\n",
    "    axes[subplot_index].set_title(\"Predicted\")\n",
    "    subplot_index += 1\n",
    "\n",
    "    axes[subplot_index].imshow(rearrange(minus, \"c h w -> h w c\"), cmap=\"gray\")\n",
    "    axes[subplot_index].set_title(\"(Noisy-Second)\")\n",
    "    subplot_index += 1\n",
    "\n",
    "    axes[subplot_index].imshow(rearrange(noisy_minus_pred, \"c h w -> h w c\"), cmap=\"gray\")\n",
    "    axes[subplot_index].set_title(\"(Noisy-Pred)\")\n",
    "    subplot_index += 1\n",
    "\n",
    "\n",
    "    plt.subplots_adjust(wspace=0.25)  # Increase gap between columns\n",
    "    # plt.tight_layout()\n",
    "\n",
    "    if log_artifact:\n",
    "        img_name_prefix = EXPERIMENT_NAME + \"_\" + str(epoch) + \"_\"\n",
    "        with tempfile.NamedTemporaryFile(prefix=img_name_prefix, suffix=\".png\", delete=False) as tmp:\n",
    "            fig.savefig(tmp.name)\n",
    "            mlflow.log_artifact(tmp.name, artifact_path=\"images\")\n",
    "        os.remove(tmp.name)\n",
    "    else:\n",
    "        plt.show()\n",
    "\n",
    "    plt.close(fig)  # Clean up the figure\n",
    "\n",
    "imgs, lbls = next(iter(test_dataloader))\n",
    "imgs = imgs.to(device)\n",
    "t = torch.randint(0, 100, (BATCH_SIZE,), device=device).long()\n",
    "log_plot_inference_and_fid_is_metrics(model, 0, imgs, t, log_artifact=False)"
   ]
  },
  {
   "cell_type": "markdown",
   "id": "4bb50355",
   "metadata": {},
   "source": [
    "# Metrics"
   ]
  },
  {
   "cell_type": "markdown",
   "id": "d0997c09",
   "metadata": {},
   "source": [
    "FID"
   ]
  },
  {
   "cell_type": "code",
   "execution_count": 27,
   "id": "a9016550",
   "metadata": {},
   "outputs": [
    {
     "name": "stdout",
     "output_type": "stream",
     "text": [
      "When the input is the exact same tensors, we expect FID score of 0, which is indeed the case\n",
      "Same images FID: tensor(-0.0001, device='cuda:0')\n"
     ]
    }
   ],
   "source": [
    "def get_fid_score(original_images, generated_images):\n",
    "    \"\"\"\n",
    "    FID evaluates diversity of generated images (generated_images) with in a reference dataset (original_images)\n",
    "    \"\"\"\n",
    "    # Convert grayscale (1-channel) images to 3-channel\n",
    "    if original_images.shape[1] == 1:\n",
    "        original_images = original_images.repeat(1, 3, 1, 1)\n",
    "        generated_images = generated_images.repeat(1, 3, 1, 1)\n",
    "\n",
    "    fid = FrechetInceptionDistance(normalize=True).to(original_images.device)\n",
    "    fid.update(original_images, real=True)\n",
    "    fid.update(generated_images, real=False)\n",
    "    return fid.compute()\n",
    "\n",
    "imgs, lbls = next(iter(test_dataloader))\n",
    "imgs = imgs.to(device)\n",
    "\n",
    "fid = get_fid_score(imgs, imgs)\n",
    "print(\"When the input is the exact same tensors, we expect FID score of 0, which is indeed the case\")\n",
    "print(\"Same images FID:\", fid)"
   ]
  },
  {
   "cell_type": "markdown",
   "id": "9df6fb49",
   "metadata": {},
   "source": [
    "IS"
   ]
  },
  {
   "cell_type": "code",
   "execution_count": 28,
   "id": "34a5bbc4",
   "metadata": {},
   "outputs": [
    {
     "name": "stderr",
     "output_type": "stream",
     "text": [
      "c:\\Users\\Shlomi\\AppData\\Local\\pypoetry\\Cache\\virtualenvs\\text-conditioned-image-generation-using-st-35DVCAXA-py3.11\\Lib\\site-packages\\torchmetrics\\utilities\\prints.py:43: UserWarning: Metric `InceptionScore` will save all extracted features in buffer. For large datasets this may lead to large memory footprint.\n",
      "  warnings.warn(*args, **kwargs)\n"
     ]
    },
    {
     "name": "stdout",
     "output_type": "stream",
     "text": [
      "When the input is the exact same tensors, we expect exact same IS score, and indeed that is the case\n",
      "IS Score:\t\t2.6623878479003906, IS STD:\t\t0.715976893901825\n",
      "IS Generated Score:\t2.5808441638946533, IS Generated STD:\t0.6671846508979797\n"
     ]
    }
   ],
   "source": [
    "def get_is_metrics(original_images, generated_images):\n",
    "    # Convert grayscale (1-channel) images to 3-channel\n",
    "    if original_images.shape[1] == 1:\n",
    "        original_images = original_images.repeat(1, 3, 1, 1)\n",
    "        generated_images = generated_images.repeat(1, 3, 1, 1)\n",
    "    \n",
    "    is_metric = InceptionScore(normalize=True).to(device)\n",
    "    is_score_original, is_std_original = is_metric(original_images)\n",
    "    is_score_generated, is_std_generated = is_metric(generated_images)\n",
    "    return is_score_original, is_std_original, is_score_generated, is_std_generated\n",
    "\n",
    "imgs, lbls = next(iter(test_dataloader))\n",
    "imgs = imgs.to(device)\n",
    "\n",
    "is_score_original, is_std_original, is_score_generated, is_std_generated = get_is_metrics(imgs, imgs)\n",
    "print(\"When the input is the exact same tensors, we expect exact same IS score, and indeed that is the case\")\n",
    "print(f\"IS Score:\\t\\t{is_score_original}, IS STD:\\t\\t{is_std_original}\")\n",
    "print(f\"IS Generated Score:\\t{is_score_generated}, IS Generated STD:\\t{is_std_generated}\")"
   ]
  },
  {
   "cell_type": "code",
   "execution_count": 29,
   "id": "6e39a5e0",
   "metadata": {},
   "outputs": [],
   "source": [
    "# def plot_fid_comparison(test_dataloader_iter, scheduler, noise_levels=[100, 500, 900]):\n",
    "#     fig, axes = plt.subplots(3, 4, figsize=(12, 9))\n",
    "#     fig.suptitle(\"Original vs Noised Images with FID\", fontsize=16)\n",
    "    \n",
    "#     for row in range(3):\n",
    "#         # Get next batch\n",
    "#         batch = next(test_dataloader_iter)\n",
    "#         if isinstance(batch, (tuple, list)):\n",
    "#             original_image = batch[0][0].unsqueeze(0)  # single image, keep batch dim\n",
    "#         else:\n",
    "#             original_image = batch[0].unsqueeze(0)\n",
    "        \n",
    "#         original_image = original_image.to(next(scheduler.parameters()).device)\n",
    "        \n",
    "#         # Plot original\n",
    "#         axes[row, 0].imshow(rearrange(original_image[0].cpu(), \"c h w -> h w c\"))\n",
    "#         axes[row, 0].set_title(\"Original\")\n",
    "#         axes[row, 0].axis(\"off\")\n",
    "\n",
    "#         # Apply 3 noise levels\n",
    "#         for col, t_idx in enumerate(noise_levels):\n",
    "#             t = torch.tensor([t_idx], device=original_image.device)\n",
    "#             noisy_img, *_ = scheduler(original_image, t)\n",
    "#             fid_score = get_fid_score(original_image, noisy_img)\n",
    "\n",
    "#             axes[row, col+1].imshow(rearrange(noisy_img[0].cpu(), \"c h w -> h w c\"))\n",
    "#             axes[row, col+1].set_title(f\"FID: {fid_score.item():.2f} (t={t_idx})\")\n",
    "#             axes[row, col+1].axis(\"off\")\n",
    "\n",
    "#     plt.tight_layout()\n",
    "#     plt.subplots_adjust(top=0.9)\n",
    "#     plt.show()\n",
    "\n",
    "# plot_fid_comparison(test_dataloader_iter, )"
   ]
  },
  {
   "cell_type": "code",
   "execution_count": 30,
   "id": "fd70b403",
   "metadata": {},
   "outputs": [],
   "source": [
    "def log_fid_is_metrics(model, epoch, imgs):\n",
    "    # Add noise to the images\n",
    "    t = torch.randint(0, T, (BATCH_SIZE,), device=device).long()\n",
    "    x_noisy, noise, first_term, second_term = model.noise_scheduler(imgs, t)\n",
    "\n",
    "    # Get noise prediction\n",
    "    noise_pred = model(x_noisy, t)\n",
    "\n",
    "    # Remove the predicted noise from noisy image\n",
    "    samples = x_noisy - noise_pred\n",
    "\n",
    "    fid = get_fid_score(imgs, samples)\n",
    "    is_score_original, is_std_original, is_score_generated, is_std_generated = get_is_metrics(imgs, samples)\n",
    "\n",
    "    mlflow.log_metrics({\n",
    "        \"fid\": fid,\n",
    "        \"is_score_original\": is_score_original,\n",
    "        \"is_score_original_std\": is_std_original,\n",
    "        \"is_score_generated\": is_score_generated,\n",
    "        \"is_score_generated_std\": is_std_generated,\n",
    "    }, step=epoch)"
   ]
  },
  {
   "cell_type": "markdown",
   "id": "6f3fc619",
   "metadata": {},
   "source": [
    "Loss function"
   ]
  },
  {
   "cell_type": "code",
   "execution_count": 31,
   "id": "66ee7915",
   "metadata": {},
   "outputs": [],
   "source": [
    "def get_loss(model, imgs: torch.Tensor, t: torch.Tensor):\n",
    "    \"\"\"\n",
    "    Run loss function of the model for training\n",
    "    \"\"\"\n",
    "    x_noisy, noise, first_term, second_term = model.noise_scheduler(imgs, t)\n",
    "    noise_pred = model(x_noisy, t)\n",
    "    loss = F.l1_loss(noise_pred, second_term) # Here we want to predict the noise. Second term is the noise / target to predict\n",
    "\n",
    "    return loss"
   ]
  },
  {
   "cell_type": "code",
   "execution_count": 32,
   "id": "ac1477d0",
   "metadata": {},
   "outputs": [],
   "source": [
    "def log_checkpoint(model, epoch):\n",
    "    \"\"\"\n",
    "    Save model checkpoint each epoch\n",
    "    \"\"\"\n",
    "    checkpoint_path = f\"checkpoint_epoch_{epoch}.pt\"\n",
    "    torch.save(model.state_dict(), checkpoint_path)\n",
    "    mlflow.log_artifact(checkpoint_path, artifact_path=\"checkpoints\")\n",
    "    os.remove(checkpoint_path)"
   ]
  },
  {
   "cell_type": "code",
   "execution_count": 33,
   "id": "ebbb577e",
   "metadata": {},
   "outputs": [],
   "source": [
    "# mlflow.set_experiment(EXPERIMENT_NAME)\n",
    "mlflow.set_tracking_uri(uri=\"http://127.0.0.1:5000\")\n",
    "\n",
    "# mlflow.autolog()\n",
    "\n",
    "mlflow_run = mlflow.start_run()\n",
    "\n",
    "mlflow.log_params({\n",
    "    \"lr\": LR,\n",
    "    \"device\": device,\n",
    "    \"optimizer\": optimizer,\n",
    "    \"epochs\": EPOCHS,\n",
    "    \"batch_size\": BATCH_SIZE,\n",
    "    \"image_size\": IMG_SIZE,\n",
    "    \"T\": T\n",
    "})\n",
    "\n",
    "mlflow.set_tag(\"Training Info\", \"Basic MNIST Fashion dataset\")"
   ]
  },
  {
   "cell_type": "code",
   "execution_count": null,
   "id": "aa792908",
   "metadata": {},
   "outputs": [
    {
     "name": "stderr",
     "output_type": "stream",
     "text": [
      "  7%|▋         | 1/15 [01:02<14:32, 62.29s/it]"
     ]
    },
    {
     "name": "stdout",
     "output_type": "stream",
     "text": [
      "Epoch: 0 Epoch loss: tensor(0.0652, device='cuda:0', grad_fn=<DivBackward0>)\n"
     ]
    },
    {
     "name": "stderr",
     "output_type": "stream",
     "text": [
      " 13%|█▎        | 2/15 [02:04<13:25, 61.98s/it]"
     ]
    },
    {
     "name": "stdout",
     "output_type": "stream",
     "text": [
      "Epoch: 1 Epoch loss: tensor(0.0228, device='cuda:0', grad_fn=<DivBackward0>)\n"
     ]
    },
    {
     "name": "stderr",
     "output_type": "stream",
     "text": [
      " 20%|██        | 3/15 [03:05<12:22, 61.87s/it]"
     ]
    },
    {
     "name": "stdout",
     "output_type": "stream",
     "text": [
      "Epoch: 2 Epoch loss: tensor(0.0144, device='cuda:0', grad_fn=<DivBackward0>)\n"
     ]
    },
    {
     "name": "stderr",
     "output_type": "stream",
     "text": [
      " 27%|██▋       | 4/15 [04:05<11:10, 61.00s/it]"
     ]
    },
    {
     "name": "stdout",
     "output_type": "stream",
     "text": [
      "Epoch: 3 Epoch loss: tensor(0.0103, device='cuda:0', grad_fn=<DivBackward0>)\n"
     ]
    },
    {
     "name": "stderr",
     "output_type": "stream",
     "text": [
      " 33%|███▎      | 5/15 [05:07<10:12, 61.23s/it]"
     ]
    },
    {
     "name": "stdout",
     "output_type": "stream",
     "text": [
      "Epoch: 4 Epoch loss: tensor(0.0080, device='cuda:0', grad_fn=<DivBackward0>)\n"
     ]
    },
    {
     "name": "stderr",
     "output_type": "stream",
     "text": [
      " 40%|████      | 6/15 [06:07<09:07, 60.85s/it]"
     ]
    },
    {
     "name": "stdout",
     "output_type": "stream",
     "text": [
      "Epoch: 5 Epoch loss: tensor(0.0066, device='cuda:0', grad_fn=<DivBackward0>)\n"
     ]
    },
    {
     "name": "stderr",
     "output_type": "stream",
     "text": [
      " 47%|████▋     | 7/15 [07:06<08:03, 60.42s/it]"
     ]
    },
    {
     "name": "stdout",
     "output_type": "stream",
     "text": [
      "Epoch: 6 Epoch loss: tensor(0.0056, device='cuda:0', grad_fn=<DivBackward0>)\n"
     ]
    },
    {
     "name": "stderr",
     "output_type": "stream",
     "text": [
      " 53%|█████▎    | 8/15 [08:06<07:02, 60.29s/it]"
     ]
    },
    {
     "name": "stdout",
     "output_type": "stream",
     "text": [
      "Epoch: 7 Epoch loss: tensor(0.0048, device='cuda:0', grad_fn=<DivBackward0>)\n"
     ]
    },
    {
     "name": "stderr",
     "output_type": "stream",
     "text": [
      " 60%|██████    | 9/15 [09:06<06:01, 60.21s/it]"
     ]
    },
    {
     "name": "stdout",
     "output_type": "stream",
     "text": [
      "Epoch: 8 Epoch loss: tensor(0.0042, device='cuda:0', grad_fn=<DivBackward0>)\n"
     ]
    },
    {
     "name": "stderr",
     "output_type": "stream",
     "text": [
      " 67%|██████▋   | 10/15 [10:06<05:00, 60.15s/it]"
     ]
    },
    {
     "name": "stdout",
     "output_type": "stream",
     "text": [
      "Epoch: 9 Epoch loss: tensor(0.0038, device='cuda:0', grad_fn=<DivBackward0>)\n"
     ]
    },
    {
     "name": "stderr",
     "output_type": "stream",
     "text": [
      " 73%|███████▎  | 11/15 [11:06<03:59, 59.95s/it]"
     ]
    },
    {
     "name": "stdout",
     "output_type": "stream",
     "text": [
      "Epoch: 10 Epoch loss: tensor(0.0034, device='cuda:0', grad_fn=<DivBackward0>)\n"
     ]
    },
    {
     "name": "stderr",
     "output_type": "stream",
     "text": [
      " 80%|████████  | 12/15 [12:06<02:59, 59.95s/it]"
     ]
    },
    {
     "name": "stdout",
     "output_type": "stream",
     "text": [
      "Epoch: 11 Epoch loss: tensor(0.0031, device='cuda:0', grad_fn=<DivBackward0>)\n"
     ]
    },
    {
     "name": "stderr",
     "output_type": "stream",
     "text": [
      " 87%|████████▋ | 13/15 [13:06<01:59, 59.89s/it]"
     ]
    },
    {
     "name": "stdout",
     "output_type": "stream",
     "text": [
      "Epoch: 12 Epoch loss: tensor(0.0028, device='cuda:0', grad_fn=<DivBackward0>)\n"
     ]
    },
    {
     "name": "stderr",
     "output_type": "stream",
     "text": [
      " 93%|█████████▎| 14/15 [14:05<00:59, 59.91s/it]"
     ]
    },
    {
     "name": "stdout",
     "output_type": "stream",
     "text": [
      "Epoch: 13 Epoch loss: tensor(0.0026, device='cuda:0', grad_fn=<DivBackward0>)\n"
     ]
    },
    {
     "name": "stderr",
     "output_type": "stream",
     "text": [
      "100%|██████████| 15/15 [15:07<00:00, 60.47s/it]"
     ]
    },
    {
     "name": "stdout",
     "output_type": "stream",
     "text": [
      "Epoch: 14 Epoch loss: tensor(0.0024, device='cuda:0', grad_fn=<DivBackward0>)\n"
     ]
    },
    {
     "name": "stderr",
     "output_type": "stream",
     "text": [
      "\n"
     ]
    }
   ],
   "source": [
    "batch_step = 0\n",
    "last_loss_epoch = -1\n",
    "running_loss = 0 # Epoch running loss\n",
    "\n",
    "iter_test_dataloader = iter(test_dataloader)\n",
    "\n",
    "for epoch in tqdm(range(EPOCHS)):\n",
    "    # Logs an image of different plots. Each subplot is different image (original, noisy, the noise, predicted noise and so on)\n",
    "    log_plot_inference_and_fid_is_metrics(model, epoch, imgs, t)\n",
    "\n",
    "    # Save checkpoint each epoch\n",
    "    log_checkpoint(model, epoch)\n",
    "\n",
    "    # Log FID, IS metrics\n",
    "    imgs, lbls = next(iter_test_dataloader)\n",
    "    imgs = imgs.to(device)\n",
    "    log_fid_is_metrics(model, epoch, imgs)\n",
    "\n",
    "    for step, batch in enumerate(train_dataloader):\n",
    "        optimizer.zero_grad()\n",
    "\n",
    "        imgs, labels = batch\n",
    "        imgs = imgs.to(device)\n",
    "        # labels = labels.to(device)\n",
    "\n",
    "        # Get loss and log it and run inference and save result if mlflow_log_loss\n",
    "        t = torch.randint(0, T, (BATCH_SIZE,), device=device).long()\n",
    "        loss = get_loss(model, imgs, t)\n",
    "        running_loss += loss\n",
    "\n",
    "        mlflow.log_metric(\"batch_loss\", loss.item(), step=batch_step)\n",
    "        batch_step += 1\n",
    "\n",
    "        # Calculate gradients and update model parameters\n",
    "        loss.backward()\n",
    "        optimizer.step()\n",
    "\n",
    "    running_loss = (running_loss / batch_step).item()\n",
    "    mlflow.log_metric(\"epoch_loss\", running_loss, epoch)\n"
   ]
  },
  {
   "cell_type": "markdown",
   "id": "13ae6ba8",
   "metadata": {},
   "source": [
    "Save model"
   ]
  },
  {
   "cell_type": "code",
   "execution_count": 36,
   "id": "adf8c5ed",
   "metadata": {},
   "outputs": [
    {
     "name": "stderr",
     "output_type": "stream",
     "text": [
      "2025/06/02 00:51:55 WARNING mlflow.utils.requirements_utils: Found torch version (2.7.0+cu118) contains a local version label (+cu118). MLflow logged a pip requirement for this package as 'torch==2.7.0' without the local version label to make it installable from PyPI. To specify pip requirements containing local version labels, please use `conda_env` or `pip_requirements`.\n",
      "2025/06/02 00:52:02 WARNING mlflow.utils.requirements_utils: Found torch version (2.7.0+cu118) contains a local version label (+cu118). MLflow logged a pip requirement for this package as 'torch==2.7.0' without the local version label to make it installable from PyPI. To specify pip requirements containing local version labels, please use `conda_env` or `pip_requirements`.\n",
      "2025/06/02 00:52:02 WARNING mlflow.models.model: Model logged without a signature and input example. Please set `input_example` parameter when logging the model to auto infer the model signature.\n"
     ]
    },
    {
     "data": {
      "text/plain": [
       "<mlflow.models.model.ModelInfo at 0x264fd311190>"
      ]
     },
     "execution_count": 36,
     "metadata": {},
     "output_type": "execute_result"
    }
   ],
   "source": [
    "# torch.save(model.state_dict(), \"model.pth\")\n",
    "mlflow.pytorch.log_model(model, artifact_path=\"models\")"
   ]
  },
  {
   "cell_type": "markdown",
   "id": "fda0b754",
   "metadata": {},
   "source": [
    "Generate images (the whole point of the model)"
   ]
  },
  {
   "cell_type": "code",
   "execution_count": 90,
   "id": "cddaa62f",
   "metadata": {},
   "outputs": [
    {
     "data": {
      "image/png": "[encoded data removed]",
      "text/plain": [
       "<Figure size 600x600 with 1 Axes>"
      ]
     },
     "metadata": {},
     "output_type": "display_data"
    }
   ],
   "source": [
    "with torch.no_grad():\n",
    "    # Generate 16 random noise samples\n",
    "    num_images = 16\n",
    "    img_shape = (num_images, 1, IMG_SIZE, IMG_SIZE)\n",
    "    img = torch.randn(img_shape).to(device)\n",
    "    t = torch.zeros(num_images, dtype=torch.long).to(device)  # dummy timesteps\n",
    "\n",
    "    # Predict noise and denoise\n",
    "    noise_pred = model(img, t)\n",
    "    img = img - noise_pred\n",
    "\n",
    "    # Convert to grid for plotting\n",
    "    grid = torchvision.utils.make_grid(img, nrow=4, normalize=True)  # normalize for display\n",
    "    grid = grid.permute(1, 2, 0).cpu().numpy()  # CHW -> HWC\n",
    "\n",
    "    # Plot\n",
    "    plt.figure(figsize=(6, 6))\n",
    "    plt.imshow(grid.squeeze(), cmap=\"gray\")  # squeeze if single channel\n",
    "    plt.axis(\"off\")\n",
    "    plt.title(\"Generated Samples\")\n",
    "    plt.show()\n"
   ]
  },
  {
   "cell_type": "markdown",
   "id": "6849a55b",
   "metadata": {},
   "source": [
    "Load model"
   ]
  },
  {
   "cell_type": "code",
   "execution_count": null,
   "id": "3d566f57",
   "metadata": {},
   "outputs": [],
   "source": [
    "# # Load model\n",
    "# model = Model()\n",
    "# model.load_state_dict(torch.load(\"model.pth\"))\n",
    "\n"
   ]
  },
  {
   "cell_type": "code",
   "execution_count": 37,
   "id": "6ea21200",
   "metadata": {},
   "outputs": [
    {
     "name": "stdout",
     "output_type": "stream",
     "text": [
      "🏃 View run nimble-fawn-319 at: http://127.0.0.1:5000/#/experiments/0/runs/0c93e32a8458449fa8f73d4705758e0f\n",
      "🧪 View experiment at: http://127.0.0.1:5000/#/experiments/0\n"
     ]
    }
   ],
   "source": [
    "mlflow.end_run()"
   ]
  },
  {
   "cell_type": "markdown",
   "id": "fe69f9f0",
   "metadata": {},
   "source": [
    "Notify windows that we finished running notebook"
   ]
  },
  {
   "cell_type": "code",
   "execution_count": 38,
   "id": "f4a5e4ac",
   "metadata": {},
   "outputs": [
    {
     "name": "stderr",
     "output_type": "stream",
     "text": [
      "WNDPROC return value cannot be converted to LRESULT\n"
     ]
    }
   ],
   "source": [
    "if os.name == 'nt':\n",
    "    notifier = ToastNotifier()\n",
    "    notifier.show_toast(\"Notebook Run Complete\", \"Training finished.\", duration=10, threaded=True)"
   ]
  }
 ],
 "metadata": {
  "kernelspec": {
   "display_name": "text-conditioned-image-generation-using-st-35DVCAXA-py3.11",
   "language": "python",
   "name": "python3"
  },
  "language_info": {
   "codemirror_mode": {
    "name": "ipython",
    "version": 3
   },
   "file_extension": ".py",
   "mimetype": "text/x-python",
   "name": "python",
   "nbconvert_exporter": "python",
   "pygments_lexer": "ipython3",
   "version": "3.11.8"
  }
 },
 "nbformat": 4,
 "nbformat_minor": 5
}
