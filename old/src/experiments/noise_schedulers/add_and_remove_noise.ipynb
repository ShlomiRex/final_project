{
 "cells": [
  {
   "cell_type": "code",
   "execution_count": 1,
   "id": "40cb946e",
   "metadata": {},
   "outputs": [],
   "source": [
    "import torch\n",
    "from torchvision import datasets, transforms\n",
    "from torch.utils.data import DataLoader\n",
    "import matplotlib.pyplot as plt\n",
    "\n"
   ]
  },
  {
   "cell_type": "code",
   "execution_count": 2,
   "id": "c50c81ba",
   "metadata": {},
   "outputs": [],
   "source": [
    "import torch\n",
    "\n",
    "\"\"\"\n",
    "beta_start and beta_end are hyperparameters\n",
    "\"\"\"\n",
    "class LinearNoiseScheduler:\n",
    "    def __init__(self, timesteps: int = 1000, beta_start: float = 1e-4, beta_end: float = 0.02):\n",
    "        self.timesteps = timesteps\n",
    "\n",
    "        # Start and end are the beta values for the linear noise schedule that we linearly interpolate between (hence linear scheduler)\n",
    "        self.beta_start = beta_start\n",
    "        self.beta_end = beta_end\n",
    "\n",
    "        self.betas = torch.linspace(beta_start, beta_end, timesteps)\n",
    "        self.alphas = 1.0 - self.betas # Equation 1\n",
    "        self.alpha_hat = torch.cumprod(self.alphas, dim=0)  # Equation 2\n",
    "\n",
    "    def add_noise(self, x0: torch.Tensor, t: torch.Tensor):\n",
    "        \"\"\"\n",
    "        Forward process: q(x_t | x_0)\n",
    "        \"\"\"\n",
    "        epsilon = torch.randn_like(x0) # Input: x_0 - it returns the same size/shape as the input tensor (i.e. image)\n",
    "\n",
    "        # gather alpha_bars for each sample in the batch\n",
    "        alpha_bar_t = self.alpha_hat[t].view(-1, 1, 1, 1).to(x0.device)\n",
    "        first_term = torch.sqrt(alpha_bar_t) * x0\n",
    "        second_term = torch.sqrt(1 - alpha_bar_t) * epsilon\n",
    "        return first_term + second_term, epsilon, first_term, second_term # Equation 3"
   ]
  },
  {
   "cell_type": "code",
   "execution_count": null,
   "id": "d80044cf",
   "metadata": {},
   "outputs": [
    {
     "name": "stderr",
     "output_type": "stream",
     "text": [
      "100%|██████████| 9.91M/9.91M [00:02<00:00, 4.69MB/s]\n",
      "100%|██████████| 28.9k/28.9k [00:00<00:00, 77.8kB/s]\n",
      "100%|██████████| 1.65M/1.65M [00:01<00:00, 1.62MB/s]\n",
      "100%|██████████| 4.54k/4.54k [00:00<00:00, 4.55MB/s]\n"
     ]
    },
    {
     "name": "stdout",
     "output_type": "stream",
     "text": [
      "torch.Size([64, 1, 28, 28])\n",
      "torch.Size([64])\n"
     ]
    },
    {
     "data": {
      "image/png": "[encoded data removed]",
      "text/plain": [
       "<Figure size 640x480 with 4 Axes>"
      ]
     },
     "metadata": {},
     "output_type": "display_data"
    }
   ],
   "source": [
    "noise_sched = LinearNoiseScheduler()\n",
    "\n",
    "transform = transforms.Compose([\n",
    "    transforms.ToTensor(),  # Convert image to PyTorch tensor\n",
    "    transforms.Normalize((0.1307,), (0.3081,))  # Normalize using MNIST mean & std\n",
    "])\n",
    "\n",
    "train_dataset = datasets.MNIST(root='../../data', train=True, download=True, transform=transform)\n",
    "test_dataset  = datasets.MNIST(root='../../data', train=False, download=True, transform=transform)\n",
    "\n",
    "train_loader = DataLoader(train_dataset, batch_size=64, shuffle=True)\n",
    "test_loader  = DataLoader(test_dataset, batch_size=64, shuffle=False)\n",
    "\n",
    "# Example: iterate over the data\n",
    "for images, labels in train_loader:\n",
    "    print(images.shape)  # e.g., torch.Size([64, 1, 28, 28])\n",
    "    print(labels.shape)  # e.g., torch.Size([64])\n",
    "\n",
    "    image = images[0]\n",
    "    timestep = 100\n",
    "    noisy_img, noise, first_term, second_term = noise_sched.add_noise(image, timestep)\n",
    "    noisy_img = noisy_img.squeeze(0)\n",
    "    noise = noise.squeeze(0)\n",
    "    first_term = first_term.squeeze()\n",
    "    second_term = second_term.squeeze()\n",
    "\n",
    "    minus = noisy_img - second_term\n",
    "    minus = minus.squeeze()\n",
    "\n",
    "\n",
    "    # plot the original and noisy images\n",
    "    plt.subplot(1, 4, 1)\n",
    "    plt.imshow(image[0].numpy(), cmap='gray')\n",
    "    plt.title('Original Image')\n",
    "    plt.axis('off')\n",
    "    plt.subplot(1, 4, 2)\n",
    "    plt.imshow(noisy_img[0].numpy(), cmap='gray')\n",
    "    plt.title('Noisy Image')\n",
    "    plt.axis('off')\n",
    "    plt.subplot(1, 4, 3)\n",
    "    plt.imshow(second_term.numpy(), cmap='gray')\n",
    "    plt.title('Noise (second term)')\n",
    "    plt.axis('off')\n",
    "    plt.axis('off')\n",
    "    plt.subplot(1, 4, 4)\n",
    "    plt.imshow(minus.numpy(), cmap='gray')\n",
    "    plt.title('Minus')\n",
    "    plt.axis('off')\n",
    "\n",
    "    plt.subplots_adjust(wspace=1.5)  # adjust this value as needed\n",
    "\n",
    "    plt.show()\n",
    "\n",
    "    break"
   ]
  }
 ],
 "metadata": {
  "kernelspec": {
   "display_name": "text-conditioned-image-generation-using-st-35DVCAXA-py3.11",
   "language": "python",
   "name": "python3"
  },
  "language_info": {
   "codemirror_mode": {
    "name": "ipython",
    "version": 3
   },
   "file_extension": ".py",
   "mimetype": "text/x-python",
   "name": "python",
   "nbconvert_exporter": "python",
   "pygments_lexer": "ipython3",
   "version": "3.11.8"
  }
 },
 "nbformat": 4,
 "nbformat_minor": 5
}
