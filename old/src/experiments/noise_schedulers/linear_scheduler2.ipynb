{
 "cells": [
  {
   "cell_type": "code",
   "execution_count": 59,
   "metadata": {},
   "outputs": [],
   "source": [
    "import torch\n",
    "import torch.nn as nn\n",
    "import numpy as np\n",
    "import torch\n",
    "import torchvision.transforms as T\n",
    "import torchvision.datasets as datasets\n",
    "import matplotlib.pyplot as plt\n",
    "from torchvision.utils import make_grid\n",
    "import math\n",
    "from torch.utils.data import DataLoader\n",
    "import einops"
   ]
  },
  {
   "cell_type": "markdown",
   "metadata": {},
   "source": [
    "Load CIFAR-10 dataset"
   ]
  },
  {
   "cell_type": "code",
   "execution_count": 60,
   "metadata": {},
   "outputs": [],
   "source": [
    "transform = T.Compose([\n",
    "    T.ToTensor(),  # converts to [0, 1]\n",
    "    T.Normalize((0.5,), (0.5,))  # normalize to [-1, 1]\n",
    "])\n",
    "dataset = datasets.CIFAR10(root='../../data', train=True, download=True, transform=transform)\n",
    "img, label = dataset[0]  # get a single image\n",
    "x0 = img.unsqueeze(0)  # add batch dimension"
   ]
  },
  {
   "cell_type": "code",
   "execution_count": 61,
   "metadata": {},
   "outputs": [],
   "source": [
    "batch_size = 64\n",
    "dataset_loader = DataLoader(dataset, batch_size, shuffle=False)\n",
    "imgs, lbls = next(iter(dataset_loader))"
   ]
  },
  {
   "cell_type": "markdown",
   "metadata": {},
   "source": [
    "Get noise scheduler"
   ]
  },
  {
   "cell_type": "code",
   "execution_count": 62,
   "metadata": {},
   "outputs": [],
   "source": [
    "import torch\n",
    "from torch import nn\n",
    "from typing import Tuple\n",
    "class LinearNoiseScheduler(nn.Module):\n",
    "    def __init__(self, timesteps: int = 1000, beta_start: float = 1e-4, beta_end: float = 0.02):\n",
    "        super().__init__()\n",
    "\n",
    "        self.timesteps = timesteps\n",
    "\n",
    "        # Start and end are the beta values for the linear noise schedule that we linearly interpolate between (hence linear scheduler)\n",
    "        self.beta_start = beta_start\n",
    "        self.beta_end = beta_end\n",
    "\n",
    "        self.betas = torch.linspace(beta_start, beta_end, timesteps)\n",
    "        self.alphas = 1.0 - self.betas # Equation 1\n",
    "        self.alpha_hat = torch.cumprod(self.alphas, dim=0)  # Equation 2\n",
    "    \n",
    "    def to(self, device):\n",
    "        self.betas = self.betas.to(device)\n",
    "        self.alphas = self.alphas.to(device)\n",
    "        self.alpha_hat = self.alpha_hat.to(device)\n",
    "        return self\n",
    "\n",
    "    def forward(self, x0: torch.Tensor, t: torch.Tensor) -> Tuple[torch.Tensor, torch.Tensor]:\n",
    "        \"\"\"\n",
    "        Forward process: q(x_t | x_0)\n",
    "\n",
    "        Returns the noisy image at time t and the noise added to the image.\n",
    "        \"\"\"\n",
    "        x0_shape = x0.shape\n",
    "        epsilon = torch.flatten(torch.randn_like(x0)) # Input: x_0 - it returns the same size/shape as the input tensor (i.e. image)\n",
    "\n",
    "        # gather alpha_bars for each sample in the batch\n",
    "        alpha_bar_t = torch.flatten(self.alpha_hat[t]).to(x0.device)\n",
    "        first_term = torch.sqrt(alpha_bar_t) * torch.flatten(x0)\n",
    "        second_term = torch.sqrt(1 - alpha_bar_t) * epsilon\n",
    "        noisy_image = first_term + second_term # Equation 3\n",
    "\n",
    "        noisy_image = noisy_image.reshape(x0_shape)\n",
    "        epsilon = epsilon.reshape(x0_shape)\n",
    "\n",
    "        return noisy_image, epsilon"
   ]
  },
  {
   "cell_type": "code",
   "execution_count": 63,
   "metadata": {},
   "outputs": [
    {
     "name": "stderr",
     "output_type": "stream",
     "text": [
      "Clipping input data to the valid range for imshow with RGB data ([0..1] for floats or [0..255] for integers). Got range [-0.9607843..0.99215686].\n",
      "Clipping input data to the valid range for imshow with RGB data ([0..1] for floats or [0..255] for integers). Got range [-2.3867354..2.6257613].\n"
     ]
    },
    {
     "name": "stdout",
     "output_type": "stream",
     "text": [
      "torch.Size([3, 32, 32])\n",
      "torch.Size([3, 32, 32])\n"
     ]
    },
    {
     "data": {
      "image/png": "[encoded data removed]",
      "text/plain": [
       "<Figure size 1000x500 with 2 Axes>"
      ]
     },
     "metadata": {},
     "output_type": "display_data"
    }
   ],
   "source": [
    "sched = LinearNoiseScheduler()\n",
    "\n",
    "t = torch.randint(1, 301, imgs.shape)\n",
    "noisy_imgs, noise = sched.forward(imgs, t)\n",
    "\n",
    "fig, axes = plt.subplots(1, 2, figsize=(10, 5))\n",
    "\n",
    "idx = 1\n",
    "img = imgs[idx].detach().cpu()\n",
    "noisy_img = noisy_imgs[idx]\n",
    "\n",
    "print(img.shape)\n",
    "print(noisy_img.shape)\n",
    "\n",
    "img = einops.rearrange(img, \"c h w -> h w c\")\n",
    "noisy_img = einops.rearrange(noisy_img, \"c h w -> h w c\")\n",
    "axes[0].imshow(img)\n",
    "axes[1].imshow(noisy_img)\n",
    "plt.show()"
   ]
  }
 ],
 "metadata": {
  "kernelspec": {
   "display_name": "text-conditioned-image-generation-using-st-35DVCAXA-py3.11",
   "language": "python",
   "name": "python3"
  },
  "language_info": {
   "codemirror_mode": {
    "name": "ipython",
    "version": 3
   },
   "file_extension": ".py",
   "mimetype": "text/x-python",
   "name": "python",
   "nbconvert_exporter": "python",
   "pygments_lexer": "ipython3",
   "version": "3.11.8"
  }
 },
 "nbformat": 4,
 "nbformat_minor": 2
}
